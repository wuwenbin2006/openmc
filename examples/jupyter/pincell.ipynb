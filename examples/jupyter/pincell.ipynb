{
 "cells": [
  {
   "cell_type": "markdown",
   "metadata": {},
   "source": [
    "This notebook is intended to demonstrate the basic features of the Python API for constructing input files and running OpenMC. In it, we will show how to create a basic reflective pin-cell model that is equivalent to modeling an infinite array of fuel pins. If you have never used OpenMC, this can serve as a good starting point to learn the Python API. We highly recommend having a copy of the [Python API reference documentation](http://openmc.readthedocs.org/en/latest/pythonapi/index.html) open in another browser tab that you can refer to."
   ]
  },
  {
   "cell_type": "code",
   "execution_count": 1,
   "metadata": {},
   "outputs": [],
   "source": [
    "%matplotlib inline\n",
    "import openmc"
   ]
  },
  {
   "cell_type": "markdown",
   "metadata": {},
   "source": [
    "## Defining Materials\n",
    "\n",
    "Materials in OpenMC are defined as a set of nuclides with specified atom/weight fractions. To begin, we will create a material by making an instance of the `Material` class. In OpenMC, many objects, including materials, are identified by a \"unique ID\" that is simply just a positive integer. These IDs are used when exporting XML files that the solver reads in. They also appear in the output and can be used for identification. Since an integer ID is not very useful by itself, you can also give a material a `name` as well."
   ]
  },
  {
   "cell_type": "code",
   "execution_count": 2,
   "metadata": {},
   "outputs": [
    {
     "name": "stdout",
     "output_type": "stream",
     "text": [
      "Material\n",
      "\tID             =\t1\n",
      "\tName           =\tuo2\n",
      "\tTemperature    =\tNone\n",
      "\tDensity        =\tNone []\n",
      "\tS(a,b) Tables  \n",
      "\tNuclides       \n",
      "\n"
     ]
    }
   ],
   "source": [
    "uo2 = openmc.Material(1, \"uo2\")\n",
    "print(uo2)"
   ]
  },
  {
   "cell_type": "markdown",
   "metadata": {},
   "source": [
    "On the XML side, you have no choice but to supply an ID. However, in the Python API, if you don't give an ID, one will be automatically generated for you:"
   ]
  },
  {
   "cell_type": "code",
   "execution_count": 3,
   "metadata": {},
   "outputs": [
    {
     "name": "stdout",
     "output_type": "stream",
     "text": [
      "Material\n",
      "\tID             =\t2\n",
      "\tName           =\t\n",
      "\tTemperature    =\tNone\n",
      "\tDensity        =\tNone []\n",
      "\tS(a,b) Tables  \n",
      "\tNuclides       \n",
      "\n"
     ]
    }
   ],
   "source": [
    "mat = openmc.Material()\n",
    "print(mat)"
   ]
  },
  {
   "cell_type": "markdown",
   "metadata": {},
   "source": [
    "We see that an ID of 2 was automatically assigned. Let's now move on to adding nuclides to our `uo2` material. The `Material` object has a method `add_nuclide()` whose first argument is the name of the nuclide and second argument is the atom or weight fraction."
   ]
  },
  {
   "cell_type": "code",
   "execution_count": 4,
   "metadata": {},
   "outputs": [
    {
     "name": "stdout",
     "output_type": "stream",
     "text": [
      "Help on method add_nuclide in module openmc.material:\n",
      "\n",
      "add_nuclide(self, nuclide, percent, percent_type='ao') method of openmc.material.Material instance\n",
      "    Add a nuclide to the material\n",
      "    \n",
      "    Parameters\n",
      "    ----------\n",
      "    nuclide : str\n",
      "        Nuclide to add\n",
      "    percent : float\n",
      "        Atom or weight percent\n",
      "    percent_type : {'ao', 'wo'}\n",
      "        'ao' for atom percent and 'wo' for weight percent\n",
      "\n"
     ]
    }
   ],
   "source": [
    "help(uo2.add_nuclide)"
   ]
  },
  {
   "cell_type": "markdown",
   "metadata": {},
   "source": [
    "We see that by default it assumes we want an atom fraction."
   ]
  },
  {
   "cell_type": "code",
   "execution_count": 5,
   "metadata": {},
   "outputs": [],
   "source": [
    "# Add nuclides to uo2\n",
    "uo2.add_nuclide('U235', 0.03)\n",
    "uo2.add_nuclide('U238', 0.97)\n",
    "uo2.add_nuclide('O16', 2.0)"
   ]
  },
  {
   "cell_type": "markdown",
   "metadata": {},
   "source": [
    "Now we need to assign a total density to the material. We'll use the `set_density` for this."
   ]
  },
  {
   "cell_type": "code",
   "execution_count": 6,
   "metadata": {},
   "outputs": [],
   "source": [
    "uo2.set_density('g/cm3', 10.0)"
   ]
  },
  {
   "cell_type": "markdown",
   "metadata": {},
   "source": [
    "You may sometimes be given a material specification where all the nuclide densities are in units of atom/b-cm. In this case, you just want the density to be the sum of the constituents. In that case, you can simply run `mat.set_density('sum')`.\n",
    "\n",
    "With UO2 finished, let's now create materials for the clad and coolant. Note the use of `add_element()` for zirconium."
   ]
  },
  {
   "cell_type": "code",
   "execution_count": 7,
   "metadata": {},
   "outputs": [
    {
     "name": "stderr",
     "output_type": "stream",
     "text": [
      "/mnt/e/openMC/openmc/binbin_openmc_master/lib/python2.7/site-packages/openmc-0.10.0-py2.7.egg/openmc/mixin.py:61: IDWarning: Another Material instance already exists with id=2.\n",
      "  warn(msg, IDWarning)\n"
     ]
    }
   ],
   "source": [
    "zirconium = openmc.Material(2, \"zirconium\")\n",
    "zirconium.add_element('Zr', 1.0)\n",
    "zirconium.set_density('g/cm3', 6.6)\n",
    "\n",
    "water = openmc.Material(3, \"h2o\")\n",
    "water.add_nuclide('H1', 2.0)\n",
    "water.add_nuclide('O16', 1.0)\n",
    "water.set_density('g/cm3', 1.0)"
   ]
  },
  {
   "cell_type": "markdown",
   "metadata": {},
   "source": [
    "An astute observer might now point out that this water material we just created will only use free-atom cross sections. We need to tell it to use an $S(\\alpha,\\beta)$ table so that the bound atom cross section is used at thermal energies. To do this, there's an `add_s_alpha_beta()` method. Note the use of the GND-style name \"c_H_in_H2O\"."
   ]
  },
  {
   "cell_type": "code",
   "execution_count": 8,
   "metadata": {},
   "outputs": [],
   "source": [
    "water.add_s_alpha_beta('c_H_in_H2O')"
   ]
  },
  {
   "cell_type": "markdown",
   "metadata": {},
   "source": [
    "When we go to run the transport solver in OpenMC, it is going to look for a `materials.xml` file. Thus far, we have only created objects in memory. To actually create a `materials.xml` file, we need to instantiate a `Materials` collection and export it to XML."
   ]
  },
  {
   "cell_type": "code",
   "execution_count": 9,
   "metadata": {},
   "outputs": [],
   "source": [
    "mats = openmc.Materials([uo2, zirconium, water])"
   ]
  },
  {
   "cell_type": "markdown",
   "metadata": {},
   "source": [
    "Note that `Materials` is actually a subclass of Python's built-in `list`, so we can use methods like `append()`, `insert()`, `pop()`, etc."
   ]
  },
  {
   "cell_type": "code",
   "execution_count": 10,
   "metadata": {},
   "outputs": [
    {
     "data": {
      "text/plain": [
       "True"
      ]
     },
     "execution_count": 10,
     "metadata": {},
     "output_type": "execute_result"
    }
   ],
   "source": [
    "mats = openmc.Materials()\n",
    "mats.append(uo2)\n",
    "mats += [zirconium, water]\n",
    "isinstance(mats, list)"
   ]
  },
  {
   "cell_type": "markdown",
   "metadata": {},
   "source": [
    "Finally, we can create the XML file with the `export_to_xml()` method. In a Jupyter notebook, we can run a shell command by putting `!` before it, so in this case we are going to display the `materials.xml` file that we created."
   ]
  },
  {
   "cell_type": "code",
   "execution_count": 11,
   "metadata": {},
   "outputs": [
    {
     "name": "stdout",
     "output_type": "stream",
     "text": [
      "<?xml version='1.0' encoding='utf-8'?>\r\n",
      "<materials>\r\n",
      "  <material id=\"1\" name=\"uo2\">\r\n",
      "    <density units=\"g/cm3\" value=\"10.0\" />\r\n",
      "    <nuclide ao=\"0.03\" name=\"U235\" />\r\n",
      "    <nuclide ao=\"0.97\" name=\"U238\" />\r\n",
      "    <nuclide ao=\"2.0\" name=\"O16\" />\r\n",
      "  </material>\r\n",
      "  <material id=\"2\" name=\"zirconium\">\r\n",
      "    <density units=\"g/cm3\" value=\"6.6\" />\r\n",
      "    <nuclide ao=\"0.5145\" name=\"Zr90\" />\r\n",
      "    <nuclide ao=\"0.1122\" name=\"Zr91\" />\r\n",
      "    <nuclide ao=\"0.1715\" name=\"Zr92\" />\r\n",
      "    <nuclide ao=\"0.1738\" name=\"Zr94\" />\r\n",
      "    <nuclide ao=\"0.028\" name=\"Zr96\" />\r\n",
      "  </material>\r\n",
      "  <material id=\"3\" name=\"h2o\">\r\n",
      "    <density units=\"g/cm3\" value=\"1.0\" />\r\n",
      "    <nuclide ao=\"2.0\" name=\"H1\" />\r\n",
      "    <nuclide ao=\"1.0\" name=\"O16\" />\r\n",
      "    <sab name=\"c_H_in_H2O\" />\r\n",
      "  </material>\r\n",
      "</materials>\r\n"
     ]
    }
   ],
   "source": [
    "mats.export_to_xml()\n",
    "!cat materials.xml"
   ]
  },
  {
   "cell_type": "markdown",
   "metadata": {},
   "source": [
    "### Element Expansion\n",
    "\n",
    "Did you notice something really cool that happened to our Zr element? OpenMC automatically turned it into a list of nuclides when it exported it! The way this feature works is as follows:\n",
    "\n",
    "- First, it checks whether `Materials.cross_sections` has been set, indicating the path to a `cross_sections.xml` file.\n",
    "- If `Materials.cross_sections` isn't set, it looks for the `OPENMC_CROSS_SECTIONS` environment variable.\n",
    "- If either of these are found, it scans the file to see what nuclides are actually available and will expand elements accordingly.\n",
    "\n",
    "Let's see what happens if we change O16 in water to elemental O."
   ]
  },
  {
   "cell_type": "code",
   "execution_count": 12,
   "metadata": {},
   "outputs": [
    {
     "name": "stdout",
     "output_type": "stream",
     "text": [
      "<?xml version='1.0' encoding='utf-8'?>\r\n",
      "<materials>\r\n",
      "  <material id=\"1\" name=\"uo2\">\r\n",
      "    <density units=\"g/cm3\" value=\"10.0\" />\r\n",
      "    <nuclide ao=\"0.03\" name=\"U235\" />\r\n",
      "    <nuclide ao=\"0.97\" name=\"U238\" />\r\n",
      "    <nuclide ao=\"2.0\" name=\"O16\" />\r\n",
      "  </material>\r\n",
      "  <material id=\"2\" name=\"zirconium\">\r\n",
      "    <density units=\"g/cm3\" value=\"6.6\" />\r\n",
      "    <nuclide ao=\"0.5145\" name=\"Zr90\" />\r\n",
      "    <nuclide ao=\"0.1122\" name=\"Zr91\" />\r\n",
      "    <nuclide ao=\"0.1715\" name=\"Zr92\" />\r\n",
      "    <nuclide ao=\"0.1738\" name=\"Zr94\" />\r\n",
      "    <nuclide ao=\"0.028\" name=\"Zr96\" />\r\n",
      "  </material>\r\n",
      "  <material id=\"3\" name=\"h2o\">\r\n",
      "    <density units=\"g/cm3\" value=\"1.0\" />\r\n",
      "    <nuclide ao=\"2.0\" name=\"H1\" />\r\n",
      "    <nuclide ao=\"0.999621\" name=\"O16\" />\r\n",
      "    <nuclide ao=\"0.000379\" name=\"O17\" />\r\n",
      "    <sab name=\"c_H_in_H2O\" />\r\n",
      "  </material>\r\n",
      "</materials>\r\n"
     ]
    }
   ],
   "source": [
    "water.remove_nuclide('O16')\n",
    "water.add_element('O', 1.0)\n",
    "\n",
    "mats.export_to_xml()\n",
    "!cat materials.xml"
   ]
  },
  {
   "cell_type": "markdown",
   "metadata": {},
   "source": [
    "We see that now O16 and O17 were automatically added. O18 is missing because our cross sections file (which is based on ENDF/B-VII.1) doesn't have O18. If OpenMC didn't know about the cross sections file, it would have assumed that all isotopes exist."
   ]
  },
  {
   "cell_type": "markdown",
   "metadata": {},
   "source": [
    "### The `cross_sections.xml` file\n",
    "\n",
    "The `cross_sections.xml` tells OpenMC where it can find nuclide cross sections and $S(\\alpha,\\beta)$ tables. It serves the same purpose as MCNP's `xsdir` file and Serpent's `xsdata` file. As we mentioned, this can be set either by the `OPENMC_CROSS_SECTIONS` environment variable or the `Materials.cross_sections` attribute.\n",
    "\n",
    "Let's have a look at what's inside this file:"
   ]
  },
  {
   "cell_type": "code",
   "execution_count": 13,
   "metadata": {},
   "outputs": [
    {
     "name": "stdout",
     "output_type": "stream",
     "text": [
      "<?xml version='1.0' encoding='utf-8'?>\n",
      "<cross_sections>\n",
      "  <library materials=\"Ac225\" path=\"Ac225.h5\" type=\"neutron\" />\n",
      "  <library materials=\"Ac226\" path=\"Ac226.h5\" type=\"neutron\" />\n",
      "  <library materials=\"Ac227\" path=\"Ac227.h5\" type=\"neutron\" />\n",
      "  <library materials=\"Ag107\" path=\"Ag107.h5\" type=\"neutron\" />\n",
      "  <library materials=\"Ag109\" path=\"Ag109.h5\" type=\"neutron\" />\n",
      "  <library materials=\"Ag110_m1\" path=\"Ag110_m1.h5\" type=\"neutron\" />\n",
      "  <library materials=\"Ag111\" path=\"Ag111.h5\" type=\"neutron\" />\n",
      "  <library materials=\"Al27\" path=\"Al27.h5\" type=\"neutron\" />\n",
      "    ...\n",
      "  <library materials=\"c_O_in_BeO\" path=\"c_O_in_BeO.h5\" type=\"thermal\" />\n",
      "  <library materials=\"c_ortho_D\" path=\"c_ortho_D.h5\" type=\"thermal\" />\n",
      "  <library materials=\"c_ortho_H\" path=\"c_ortho_H.h5\" type=\"thermal\" />\n",
      "  <library materials=\"c_O_in_UO2\" path=\"c_O_in_UO2.h5\" type=\"thermal\" />\n",
      "  <library materials=\"c_para_D\" path=\"c_para_D.h5\" type=\"thermal\" />\n",
      "  <library materials=\"c_para_H\" path=\"c_para_H.h5\" type=\"thermal\" />\n",
      "  <library materials=\"c_H_in_CH4_solid\" path=\"c_H_in_CH4_solid.h5\" type=\"thermal\" />\n",
      "  <library materials=\"c_U_in_UO2\" path=\"c_U_in_UO2.h5\" type=\"thermal\" />\n",
      "  <library materials=\"c_Zr_in_ZrH\" path=\"c_Zr_in_ZrH.h5\" type=\"thermal\" />\n",
      "</cross_sections>\n"
     ]
    }
   ],
   "source": [
    "!cat $OPENMC_CROSS_SECTIONS | head -n 10\n",
    "print('    ...')\n",
    "!cat $OPENMC_CROSS_SECTIONS | tail -n 10"
   ]
  },
  {
   "cell_type": "markdown",
   "metadata": {},
   "source": [
    "### Enrichment\n",
    "\n",
    "Note that the `add_element()` method has a special argument `enrichment` that can be used for Uranium. For example, if we know that we want to create 3% enriched UO2, the following would work:"
   ]
  },
  {
   "cell_type": "code",
   "execution_count": 14,
   "metadata": {},
   "outputs": [],
   "source": [
    "uo2_three = openmc.Material()\n",
    "uo2_three.add_element('U', 1.0, enrichment=3.0)\n",
    "uo2_three.add_element('O', 2.0)\n",
    "uo2_three.set_density('g/cc', 10.0)"
   ]
  },
  {
   "cell_type": "markdown",
   "metadata": {},
   "source": [
    "## Defining Geometry\n",
    "\n",
    "At this point, we have three materials defined, exported to XML, and ready to be used in our model. To finish our model, we need to define the geometric arrangement of materials. OpenMC represents physical volumes using constructive solid geometry (CSG), also known as combinatorial geometry. The object that allows us to assign a material to a region of space is called a `Cell` (same concept in MCNP, for those familiar). In order to define a region that we can assign to a cell, we must first define surfaces which bound the region. A *surface* is a locus of zeros of a function of Cartesian coordinates $x$, $y$, and $z$, e.g.\n",
    "\n",
    "- A plane perpendicular to the x axis: $x - x_0 = 0$\n",
    "- A cylinder parallel to the z axis: $(x - x_0)^2 + (y - y_0)^2 - R^2 = 0$\n",
    "- A sphere: $(x - x_0)^2 + (y - y_0)^2 + (z - z_0)^2 - R^2 = 0$\n",
    "\n",
    "Between those three classes of surfaces (planes, cylinders, spheres), one can construct a wide variety of models. It is also possible to define cones and general second-order surfaces (tori are not currently supported).\n",
    "\n",
    "Note that defining a surface is not sufficient to specify a volume -- in order to define an actual volume, one must reference the half-space of a surface. A surface *half-space* is the region whose points satisfy a positive or negative inequality of the surface equation. For example, for a sphere of radius one centered at the origin, the surface equation is $f(x,y,z) = x^2 + y^2 + z^2 - 1 = 0$. Thus, we say that the negative half-space of the sphere, is defined as the collection of points satisfying $f(x,y,z) < 0$, which one can reason is the inside of the sphere. Conversely, the positive half-space of the sphere would correspond to all points outside of the sphere.\n",
    "\n",
    "Let's go ahead and create a sphere and confirm that what we've told you is true."
   ]
  },
  {
   "cell_type": "code",
   "execution_count": 15,
   "metadata": {},
   "outputs": [],
   "source": [
    "sph = openmc.Sphere(R=1.0)"
   ]
  },
  {
   "cell_type": "markdown",
   "metadata": {},
   "source": [
    "Note that by default the sphere is centered at the origin so we didn't have to supply `x0`, `y0`, or `z0` arguments. Strictly speaking, we could have omitted `R` as well since it defaults to one. To get the negative or positive half-space, we simply need to apply the `-` or `+` unary operators, respectively.\n",
    "\n",
    "(NOTE: Those unary operators are defined by special methods: `__pos__` and `__neg__` in this case)."
   ]
  },
  {
   "cell_type": "code",
   "execution_count": 16,
   "metadata": {},
   "outputs": [],
   "source": [
    "inside_sphere = -sph\n",
    "outside_sphere = +sph"
   ]
  },
  {
   "cell_type": "markdown",
   "metadata": {},
   "source": [
    "Now let's see if `inside_sphere` actually contains points inside the sphere:"
   ]
  },
  {
   "cell_type": "code",
   "execution_count": 17,
   "metadata": {},
   "outputs": [
    {
     "name": "stdout",
     "output_type": "stream",
     "text": [
      "(True, False)\n",
      "(False, True)\n"
     ]
    }
   ],
   "source": [
    "print((0,0,0) in inside_sphere, (0,0,2) in inside_sphere)\n",
    "print((0,0,0) in outside_sphere, (0,0,2) in outside_sphere)"
   ]
  },
  {
   "cell_type": "markdown",
   "metadata": {},
   "source": [
    "Everything works as expected! Now that we understand how to create half-spaces, we can create more complex volumes by combining half-spaces using Boolean operators: `&` (intersection), `|` (union), and `~` (complement). For example, let's say we want to define a region that is the top part of the sphere (all points inside the sphere that have $z > 0$."
   ]
  },
  {
   "cell_type": "code",
   "execution_count": 18,
   "metadata": {},
   "outputs": [],
   "source": [
    "z_plane = openmc.ZPlane(z0=0)\n",
    "northern_hemisphere = -sph & +z_plane"
   ]
  },
  {
   "cell_type": "markdown",
   "metadata": {},
   "source": [
    "For many regions, OpenMC can automatically determine a bounding box. To get the bounding box, we use the `bounding_box` property of a region, which returns a tuple of the lower-left and upper-right Cartesian coordinates for the bounding box:"
   ]
  },
  {
   "cell_type": "code",
   "execution_count": 19,
   "metadata": {},
   "outputs": [
    {
     "data": {
      "text/plain": [
       "(array([-1., -1.,  0.]), array([ 1.,  1.,  1.]))"
      ]
     },
     "execution_count": 19,
     "metadata": {},
     "output_type": "execute_result"
    }
   ],
   "source": [
    "northern_hemisphere.bounding_box"
   ]
  },
  {
   "cell_type": "markdown",
   "metadata": {},
   "source": [
    "Now that we see how to create volumes, we can use them to create a cell."
   ]
  },
  {
   "cell_type": "code",
   "execution_count": 20,
   "metadata": {},
   "outputs": [],
   "source": [
    "cell = openmc.Cell()\n",
    "cell.region = northern_hemisphere\n",
    "\n",
    "# or...\n",
    "cell = openmc.Cell(region=northern_hemisphere)"
   ]
  },
  {
   "cell_type": "markdown",
   "metadata": {},
   "source": [
    "By default, the cell is not filled by any material (void). In order to assign a material, we set the `fill` property of a `Cell`."
   ]
  },
  {
   "cell_type": "code",
   "execution_count": 22,
   "metadata": {},
   "outputs": [],
   "source": [
    "cell.fill = water"
   ]
  },
  {
   "cell_type": "markdown",
   "metadata": {},
   "source": [
    "### Universes and in-line plotting"
   ]
  },
  {
   "cell_type": "markdown",
   "metadata": {},
   "source": [
    "A collection of cells is known as a universe (again, this will be familiar to MCNP/Serpent users) and can be used as a repeatable unit when creating a model. Although we don't need it yet, the benefit of creating a universe is that we can visualize our geometry while we're creating it."
   ]
  },
  {
   "cell_type": "code",
   "execution_count": 24,
   "metadata": {},
   "outputs": [],
   "source": [
    "universe = openmc.Universe()\n",
    "universe.add_cell(cell)\n",
    "\n",
    "# this also works\n",
    "universe = openmc.Universe(cells=[cell])"
   ]
  },
  {
   "cell_type": "markdown",
   "metadata": {},
   "source": [
    "The `Universe` object has a `plot` method that will display our the universe as current constructed:"
   ]
  },
  {
   "cell_type": "code",
   "execution_count": 26,
   "metadata": {},
   "outputs": [
    {
     "data": {
      "image/png": "[encoded data removed]",
      "text/plain": [
       "<matplotlib.figure.Figure at 0x7effc02961d0>"
      ]
     },
     "metadata": {},
     "output_type": "display_data"
    }
   ],
   "source": [
    "universe.plot(width=(2.2, 2.2))"
   ]
  },
  {
   "cell_type": "markdown",
   "metadata": {},
   "source": [
    "By default, the plot will appear in the $x$-$y$ plane. We can change that with the `basis` argument."
   ]
  },
  {
   "cell_type": "code",
   "execution_count": 27,
   "metadata": {},
   "outputs": [
    {
     "data": {
      "image/png": "[encoded data removed]",
      "text/plain": [
       "<matplotlib.figure.Figure at 0x7eff717830d0>"
      ]
     },
     "metadata": {},
     "output_type": "display_data"
    }
   ],
   "source": [
    "universe.plot(width=(2.0, 2.0), basis='xz')"
   ]
  },
  {
   "cell_type": "markdown",
   "metadata": {},
   "source": [
    "If we have particular fondness for, say, fuchsia, we can tell the `plot()` method to make our cell that color."
   ]
  },
  {
   "cell_type": "code",
   "execution_count": 28,
   "metadata": {},
   "outputs": [
    {
     "data": {
      "image/png": "[encoded data removed]",
      "text/plain": [
       "<matplotlib.figure.Figure at 0x7eff936ee290>"
      ]
     },
     "metadata": {},
     "output_type": "display_data"
    }
   ],
   "source": [
    "universe.plot(width=(2.0, 2.0), basis='xz',\n",
    "              colors={cell: 'fuchsia'})"
   ]
  },
  {
   "cell_type": "markdown",
   "metadata": {},
   "source": [
    "### Pin cell geometry\n",
    "\n",
    "We now have enough knowledge to create our pin-cell. We need three surfaces to define the fuel and clad:\n",
    "\n",
    "1. The outer surface of the fuel -- a cylinder parallel to the z axis\n",
    "2. The inner surface of the clad -- same as above\n",
    "3. The outer surface of the clad -- same as above\n",
    "\n",
    "These three surfaces will all be instances of `openmc.ZCylinder`, each with a different radius according to the specification."
   ]
  },
  {
   "cell_type": "code",
   "execution_count": 29,
   "metadata": {},
   "outputs": [],
   "source": [
    "fuel_or = openmc.ZCylinder(R=0.39)\n",
    "clad_ir = openmc.ZCylinder(R=0.40)\n",
    "clad_or = openmc.ZCylinder(R=0.46)"
   ]
  },
  {
   "cell_type": "markdown",
   "metadata": {},
   "source": [
    "With the surfaces created, we can now take advantage of the built-in operators on surfaces to create regions for the fuel, the gap, and the clad:"
   ]
  },
  {
   "cell_type": "code",
   "execution_count": 30,
   "metadata": {},
   "outputs": [],
   "source": [
    "fuel_region = -fuel_or\n",
    "gap_region = +fuel_or & -clad_ir\n",
    "clad_region = +clad_ir & -clad_or"
   ]
  },
  {
   "cell_type": "markdown",
   "metadata": {},
   "source": [
    "Now we can create corresponding cells that assign materials to these regions. As with materials, cells have unique IDs that are assigned either manually or automatically. Note that the gap cell doesn't have any material assigned (it is void by default)."
   ]
  },
  {
   "cell_type": "code",
   "execution_count": 31,
   "metadata": {},
   "outputs": [
    {
     "name": "stderr",
     "output_type": "stream",
     "text": [
      "/mnt/e/openMC/openmc/binbin_openmc_master/lib/python2.7/site-packages/openmc-0.10.0-py2.7.egg/openmc/mixin.py:61: IDWarning: Another Cell instance already exists with id=1.\n",
      "  warn(msg, IDWarning)\n",
      "/mnt/e/openMC/openmc/binbin_openmc_master/lib/python2.7/site-packages/openmc-0.10.0-py2.7.egg/openmc/mixin.py:61: IDWarning: Another Cell instance already exists with id=2.\n",
      "  warn(msg, IDWarning)\n"
     ]
    }
   ],
   "source": [
    "fuel = openmc.Cell(1, 'fuel')\n",
    "fuel.fill = uo2\n",
    "fuel.region = fuel_region\n",
    "\n",
    "gap = openmc.Cell(2, 'air gap')\n",
    "gap.region = gap_region\n",
    "\n",
    "clad = openmc.Cell(3, 'clad')\n",
    "clad.fill = zirconium\n",
    "clad.region = clad_region"
   ]
  },
  {
   "cell_type": "markdown",
   "metadata": {},
   "source": [
    "Finally, we need to handle the coolant outside of our fuel pin. To do this, we create x- and y-planes that bound the geometry."
   ]
  },
  {
   "cell_type": "code",
   "execution_count": 32,
   "metadata": {},
   "outputs": [],
   "source": [
    "pitch = 1.26\n",
    "left = openmc.XPlane(x0=-pitch/2, boundary_type='reflective')\n",
    "right = openmc.XPlane(x0=pitch/2, boundary_type='reflective')\n",
    "bottom = openmc.YPlane(y0=-pitch/2, boundary_type='reflective')\n",
    "top = openmc.YPlane(y0=pitch/2, boundary_type='reflective')"
   ]
  },
  {
   "cell_type": "markdown",
   "metadata": {},
   "source": [
    "The water region is going to be everything outside of the clad outer radius and within the box formed as the intersection of four half-spaces."
   ]
  },
  {
   "cell_type": "code",
   "execution_count": 72,
   "metadata": {},
   "outputs": [],
   "source": [
    "water_region = +left & -right & +bottom & -top & +clad_or\n",
    "\n",
    "moderator = openmc.Cell(4, 'moderator')\n",
    "moderator.fill = water\n",
    "moderator.region = water_region"
   ]
  },
  {
   "cell_type": "markdown",
   "metadata": {},
   "source": [
    "OpenMC also includes a factory function that generates a rectangular prism that could have made our lives easier."
   ]
  },
  {
   "cell_type": "code",
   "execution_count": 73,
   "metadata": {},
   "outputs": [],
   "source": [
    "box = openmc.get_rectangular_prism(width=pitch, height=pitch,\n",
    "                                   boundary_type='reflective',corner_radius=0.1)\n",
    "#type(box)\n",
    "#print openmc.get_rectangular_prism.__code__\n",
    "#box.get_surfaces()"
   ]
  },
  {
   "cell_type": "markdown",
   "metadata": {},
   "source": [
    "Pay attention here -- the object that was returned is NOT a surface. It is actually the intersection of four surface half-spaces, just like we created manually before. Thus, we don't need to apply the unary operator (`-box`). Instead, we can directly combine it with `+clad_or`."
   ]
  },
  {
   "cell_type": "code",
   "execution_count": 74,
   "metadata": {},
   "outputs": [],
   "source": [
    "water_region = box & +clad_or\n",
    "moderator.region=water_region"
   ]
  },
  {
   "cell_type": "markdown",
   "metadata": {},
   "source": [
    "The final step is to assign the cells we created to a universe and tell OpenMC that this universe is the \"root\" universe in our geometry. The `Geometry` is the final object that is actually exported to XML."
   ]
  },
  {
   "cell_type": "code",
   "execution_count": 75,
   "metadata": {},
   "outputs": [
    {
     "name": "stdout",
     "output_type": "stream",
     "text": [
      "<?xml version='1.0' encoding='utf-8'?>\r\n",
      "<geometry>\r\n",
      "  <cell id=\"1\" material=\"1\" name=\"fuel\" region=\"-3\" universe=\"12\" />\r\n",
      "  <cell id=\"2\" material=\"void\" name=\"air gap\" region=\"3 -4\" universe=\"12\" />\r\n",
      "  <cell id=\"3\" material=\"2\" name=\"clad\" region=\"4 -5\" universe=\"12\" />\r\n",
      "  <cell id=\"4\" material=\"3\" name=\"moderator\" region=\"142 -143 144 -145 ~((147 -151 -153) | (148 -151 154) | (149 152 -153) | (150 152 154)) 5\" universe=\"12\" />\r\n",
      "  <surface coeffs=\"0.0 0.0 0.39\" id=\"3\" type=\"z-cylinder\" />\r\n",
      "  <surface coeffs=\"0.0 0.0 0.4\" id=\"4\" type=\"z-cylinder\" />\r\n",
      "  <surface coeffs=\"0.0 0.0 0.46\" id=\"5\" type=\"z-cylinder\" />\r\n",
      "  <surface boundary=\"reflective\" coeffs=\"-0.63\" id=\"142\" name=\"minimum x\" type=\"x-plane\" />\r\n",
      "  <surface boundary=\"reflective\" coeffs=\"0.63\" id=\"143\" name=\"maximum x\" type=\"x-plane\" />\r\n",
      "  <surface boundary=\"reflective\" coeffs=\"-0.63\" id=\"144\" name=\"minimum y\" type=\"y-plane\" />\r\n",
      "  <surface boundary=\"reflective\" coeffs=\"0.63\" id=\"145\" name=\"maximum y\" type=\"y-plane\" />\r\n",
      "  <surface boundary=\"reflective\" coeffs=\"-0.53 -0.53 0.1\" id=\"147\" name=\"x min y min\" type=\"z-cylinder\" />\r\n",
      "  <surface boundary=\"reflective\" coeffs=\"-0.53 0.53 0.1\" id=\"148\" name=\"x min y max\" type=\"z-cylinder\" />\r\n",
      "  <surface boundary=\"reflective\" coeffs=\"0.53 -0.53 0.1\" id=\"149\" name=\"x max y min\" type=\"z-cylinder\" />\r\n",
      "  <surface boundary=\"reflective\" coeffs=\"0.53 0.53 0.1\" id=\"150\" name=\"x max y max\" type=\"z-cylinder\" />\r\n",
      "  <surface boundary=\"reflective\" coeffs=\"-0.53\" id=\"151\" name=\"min x\" type=\"x-plane\" />\r\n",
      "  <surface boundary=\"reflective\" coeffs=\"0.53\" id=\"152\" name=\"max x\" type=\"x-plane\" />\r\n",
      "  <surface boundary=\"reflective\" coeffs=\"-0.53\" id=\"153\" name=\"min y\" type=\"y-plane\" />\r\n",
      "  <surface boundary=\"reflective\" coeffs=\"0.53\" id=\"154\" name=\"max y\" type=\"y-plane\" />\r\n",
      "</geometry>\r\n"
     ]
    }
   ],
   "source": [
    "root = openmc.Universe(cells=(fuel, gap, clad, moderator))\n",
    "\n",
    "geom = openmc.Geometry()\n",
    "geom.root_universe = root\n",
    "\n",
    "# or...\n",
    "geom = openmc.Geometry(root)\n",
    "geom.export_to_xml()\n",
    "!cat geometry.xml"
   ]
  },
  {
   "cell_type": "code",
   "execution_count": 77,
   "metadata": {},
   "outputs": [
    {
     "data": {
      "image/png": "[encoded data removed]",
      "text/plain": [
       "<matplotlib.figure.Figure at 0x7eff93644e50>"
      ]
     },
     "metadata": {},
     "output_type": "display_data"
    }
   ],
   "source": [
    "root.plot(width=(1.5,1.5),seed=10,pixels=(500, 500))"
   ]
  },
  {
   "cell_type": "markdown",
   "metadata": {},
   "source": [
    "## Starting source and settings\n",
    "\n",
    "The Python API has a module ``openmc.stats`` with various univariate and multivariate probability distributions. We can use these distributions to create a starting source using the ``openmc.Source`` object."
   ]
  },
  {
   "cell_type": "code",
   "execution_count": 81,
   "metadata": {},
   "outputs": [],
   "source": [
    "point = openmc.stats.Point((0, 0, 0))\n",
    "src = openmc.Source(space=point)"
   ]
  },
  {
   "cell_type": "markdown",
   "metadata": {},
   "source": [
    "Now let's create a `Settings` object and give it the source we created along with specifying how many batches and particles we want to run."
   ]
  },
  {
   "cell_type": "code",
   "execution_count": 117,
   "metadata": {},
   "outputs": [],
   "source": [
    "settings = openmc.Settings()\n",
    "settings.source = src\n",
    "settings.batches = 100\n",
    "settings.generations_per_batch=5\n",
    "settings.inactive = 10\n",
    "settings.particles = 1000"
   ]
  },
  {
   "cell_type": "code",
   "execution_count": 118,
   "metadata": {},
   "outputs": [
    {
     "name": "stdout",
     "output_type": "stream",
     "text": [
      "<?xml version='1.0' encoding='utf-8'?>\r\n",
      "<settings>\r\n",
      "  <run_mode>eigenvalue</run_mode>\r\n",
      "  <particles>1000</particles>\r\n",
      "  <batches>100</batches>\r\n",
      "  <inactive>10</inactive>\r\n",
      "  <generations_per_batch>5</generations_per_batch>\r\n",
      "  <source strength=\"1.0\">\r\n",
      "    <space type=\"point\">\r\n",
      "      <parameters>0 0 0</parameters>\r\n",
      "    </space>\r\n",
      "  </source>\r\n",
      "</settings>\r\n"
     ]
    }
   ],
   "source": [
    "settings.export_to_xml()\n",
    "!cat settings.xml"
   ]
  },
  {
   "cell_type": "markdown",
   "metadata": {},
   "source": [
    "## User-defined tallies\n",
    "\n",
    "We actually have all the *required* files needed to run a simulation. Before we do that though, let's give a quick example of how to create tallies. We will show how one would tally the total, fission, absorption, and (n,$\\gamma$) reaction rates for $^{235}$U in the cell containing fuel. Recall that filters allow us to specify *where* in phase-space we want events to be tallied and scores tell us *what* we want to tally:\n",
    "\n",
    "$$X = \\underbrace{\\int d\\mathbf{r} \\int d\\mathbf{\\Omega} \\int dE}_{\\text{filters}} \\; \\underbrace{f(\\mathbf{r},\\mathbf{\\Omega},E)}_{\\text{scores}} \\psi (\\mathbf{r},\\mathbf{\\Omega},E)$$\n",
    "\n",
    "In this case, the *where* is \"the fuel cell\". So, we will create a cell filter specifying the fuel cell."
   ]
  },
  {
   "cell_type": "code",
   "execution_count": 119,
   "metadata": {},
   "outputs": [],
   "source": [
    "cell_filter = openmc.CellFilter([fuel,clad])\n",
    "\n",
    "t = openmc.Tally(1)\n",
    "t.filters = [cell_filter]"
   ]
  },
  {
   "cell_type": "markdown",
   "metadata": {},
   "source": [
    "The *what* is the total, fission, absorption, and (n,$\\gamma$) reaction rates in $^{235}$U. By default, if we only specify what reactions, it will gives us tallies over all nuclides. We can use the `nuclides` attribute to name specific nuclides we're interested in."
   ]
  },
  {
   "cell_type": "code",
   "execution_count": 120,
   "metadata": {},
   "outputs": [],
   "source": [
    "t.nuclides = ['U235','U238']\n",
    "t.scores = ['total', 'fission', 'absorption', '(n,gamma)']"
   ]
  },
  {
   "cell_type": "markdown",
   "metadata": {},
   "source": [
    "Similar to the other files, we need to create a `Tallies` collection and export it to XML."
   ]
  },
  {
   "cell_type": "code",
   "execution_count": 121,
   "metadata": {},
   "outputs": [
    {
     "name": "stdout",
     "output_type": "stream",
     "text": [
      "<?xml version='1.0' encoding='utf-8'?>\r\n",
      "<tallies>\r\n",
      "  <filter id=\"6\" type=\"cell\">\r\n",
      "    <bins>1 3</bins>\r\n",
      "  </filter>\r\n",
      "  <tally id=\"1\">\r\n",
      "    <filters>6</filters>\r\n",
      "    <nuclides>U235 U238</nuclides>\r\n",
      "    <scores>total fission absorption (n,gamma)</scores>\r\n",
      "  </tally>\r\n",
      "</tallies>\r\n"
     ]
    }
   ],
   "source": [
    "tallies = openmc.Tallies([t])\n",
    "tallies.export_to_xml()\n",
    "!cat tallies.xml"
   ]
  },
  {
   "cell_type": "code",
   "execution_count": 122,
   "metadata": {},
   "outputs": [
    {
     "name": "stdout",
     "output_type": "stream",
     "text": [
      "CellFilter\n",
      "\tBins           =\t[1 3]\n",
      "\tID             =\t6\n",
      "\n",
      "4 2 2 16 (2, 2, 4) [8] 0\n"
     ]
    }
   ],
   "source": [
    "print cell_filter\n",
    "print t.num_scores, t.num_filter_bins,t.num_nuclides, t.num_bins,t.shape,t.filter_strides,t.num_realizations"
   ]
  },
  {
   "cell_type": "markdown",
   "metadata": {},
   "source": [
    "## Running OpenMC\n",
    "\n",
    "Running OpenMC from Python can be done using the `openmc.run()` function. This function allows you to set the number of MPI processes and OpenMP threads, if need be."
   ]
  },
  {
   "cell_type": "code",
   "execution_count": 123,
   "metadata": {
    "scrolled": true
   },
   "outputs": [
    {
     "name": "stdout",
     "output_type": "stream",
     "text": [
      "\n",
      "                               %%%%%%%%%%%%%%%\n",
      "                          %%%%%%%%%%%%%%%%%%%%%%%%\n",
      "                       %%%%%%%%%%%%%%%%%%%%%%%%%%%%%%\n",
      "                     %%%%%%%%%%%%%%%%%%%%%%%%%%%%%%%%%%\n",
      "                   %%%%%%%%%%%%%%%%%%%%%%%%%%%%%%%%%%%%%%\n",
      "                  %%%%%%%%%%%%%%%%%%%%%%%%%%%%%%%%%%%%%%%%\n",
      "                                   %%%%%%%%%%%%%%%%%%%%%%%%\n",
      "                                    %%%%%%%%%%%%%%%%%%%%%%%%\n",
      "                ###############      %%%%%%%%%%%%%%%%%%%%%%%%\n",
      "               ##################     %%%%%%%%%%%%%%%%%%%%%%%\n",
      "               ###################     %%%%%%%%%%%%%%%%%%%%%%%\n",
      "               ####################     %%%%%%%%%%%%%%%%%%%%%%\n",
      "               #####################     %%%%%%%%%%%%%%%%%%%%%\n",
      "               ######################     %%%%%%%%%%%%%%%%%%%%\n",
      "               #######################     %%%%%%%%%%%%%%%%%%\n",
      "                #######################     %%%%%%%%%%%%%%%%%\n",
      "                ######################     %%%%%%%%%%%%%%%%%\n",
      "                 ####################     %%%%%%%%%%%%%%%%%\n",
      "                   #################     %%%%%%%%%%%%%%%%%\n",
      "                    ###############     %%%%%%%%%%%%%%%%\n",
      "                      ############     %%%%%%%%%%%%%%%\n",
      "                         ########     %%%%%%%%%%%%%%\n",
      "                                     %%%%%%%%%%%\n",
      "\n",
      "                   | The OpenMC Monte Carlo Code\n",
      "         Copyright | 2011-2018 Massachusetts Institute of Technology\n",
      "           License | http://openmc.readthedocs.io/en/latest/license.html\n",
      "           Version | 0.10.0\n",
      "          Git SHA1 | 455efffdbf6eacbc0b3b93ad61cfeb24490897d8\n",
      "         Date/Time | 2018-07-21 22:26:04\n",
      "     MPI Processes | 6\n",
      "    OpenMP Threads | 2\n",
      "\n",
      " Reading settings XML file...\n",
      " Reading cross sections XML file...\n",
      " Reading materials XML file...\n",
      " Reading geometry XML file...\n",
      " Building neighboring cells lists for each surface...\n",
      " Reading U235 from /mnt/e/openMC/openmc/scripts/nndc_hdf5/U235.h5\n",
      " Reading U238 from /mnt/e/openMC/openmc/scripts/nndc_hdf5/U238.h5\n",
      " Reading O16 from /mnt/e/openMC/openmc/scripts/nndc_hdf5/O16.h5\n",
      " Reading Zr90 from /mnt/e/openMC/openmc/scripts/nndc_hdf5/Zr90.h5\n",
      " Reading Zr91 from /mnt/e/openMC/openmc/scripts/nndc_hdf5/Zr91.h5\n",
      " Reading Zr92 from /mnt/e/openMC/openmc/scripts/nndc_hdf5/Zr92.h5\n",
      " Reading Zr94 from /mnt/e/openMC/openmc/scripts/nndc_hdf5/Zr94.h5\n",
      " Reading Zr96 from /mnt/e/openMC/openmc/scripts/nndc_hdf5/Zr96.h5\n",
      " Reading H1 from /mnt/e/openMC/openmc/scripts/nndc_hdf5/H1.h5\n",
      " Reading O17 from /mnt/e/openMC/openmc/scripts/nndc_hdf5/O17.h5\n",
      " Reading c_H_in_H2O from /mnt/e/openMC/openmc/scripts/nndc_hdf5/c_H_in_H2O.h5\n",
      " Maximum neutron transport energy: 2.00000E+07 eV for U235\n",
      " Reading tallies XML file...\n",
      " Writing summary.h5 file...\n",
      " Initializing source particles...\n",
      "\n",
      " ====================>     K EIGENVALUE SIMULATION     <====================\n",
      "\n",
      "  Bat./Gen.      k            Average k         \n",
      "  =========   ========   ====================   \n",
      "        1/1    1.18391\n",
      "        1/2    1.26009\n",
      "        1/3    1.27262\n",
      "        1/4    1.31688\n",
      "        1/5    1.28684                       \n",
      "        2/1    1.22069\n",
      "        2/2    1.20175\n",
      "        2/3    1.37583\n",
      "        2/4    1.21840\n",
      "        2/5    1.39802                       \n",
      "        3/1    1.31415\n",
      "        3/2    1.39582\n",
      "        3/3    1.41826\n",
      "        3/4    1.24212\n",
      "        3/5    1.29903                       \n",
      "        4/1    1.34364\n",
      "        4/2    1.23603\n",
      "        4/3    1.24776\n",
      "        4/4    1.23914\n",
      "        4/5    1.32594                       \n",
      "        5/1    1.28417\n",
      "        5/2    1.29722\n",
      "        5/3    1.30811\n",
      "        5/4    1.27660\n",
      "        5/5    1.35750                       \n",
      "        6/1    1.28113\n",
      "        6/2    1.35311\n",
      "        6/3    1.32633\n",
      "        6/4    1.29651\n",
      "        6/5    1.27036                       \n",
      "        7/1    1.34471\n",
      "        7/2    1.21186\n",
      "        7/3    1.30443\n",
      "        7/4    1.29912\n",
      "        7/5    1.25290                       \n",
      "        8/1    1.30549\n",
      "        8/2    1.30281\n",
      "        8/3    1.28316\n",
      "        8/4    1.30431\n",
      "        8/5    1.33431                       \n",
      "        9/1    1.31928\n",
      "        9/2    1.39398\n",
      "        9/3    1.28752\n",
      "        9/4    1.27657\n",
      "        9/5    1.29721                       \n",
      "       10/1    1.32642\n",
      "       10/2    1.37669\n",
      "       10/3    1.24592\n",
      "       10/4    1.22522\n",
      "       10/5    1.34661                       \n",
      "       11/1    1.34060\n",
      "       11/2    1.35299    1.34679 +/- 0.00620\n",
      "       11/3    1.30250    1.33203 +/- 0.01519\n",
      "       11/4    1.30987    1.32649 +/- 0.01209\n",
      "       11/5    1.29818    1.32083 +/- 0.01094\n",
      "       12/1    1.27866    1.31380 +/- 0.01137\n",
      "       12/2    1.38446    1.32389 +/- 0.01394\n",
      "       12/3    1.23650    1.31297 +/- 0.01628\n",
      "       12/4    1.25509    1.30654 +/- 0.01573\n",
      "       12/5    1.33291    1.30918 +/- 0.01431\n",
      "       13/1    1.27829    1.30637 +/- 0.01325\n",
      "       13/2    1.23534    1.30045 +/- 0.01347\n",
      "       13/3    1.28153    1.29899 +/- 0.01247\n",
      "       13/4    1.20968    1.29261 +/- 0.01319\n",
      "       13/5    1.29290    1.29263 +/- 0.01228\n",
      "       14/1    1.36542    1.29718 +/- 0.01236\n",
      "       14/2    1.24154    1.29391 +/- 0.01206\n",
      "       14/3    1.33032    1.29593 +/- 0.01155\n",
      "       14/4    1.36719    1.29968 +/- 0.01155\n",
      "       14/5    1.23308    1.29635 +/- 0.01145\n",
      "       15/1    1.20685    1.29209 +/- 0.01170\n",
      "       15/2    1.26633    1.29092 +/- 0.01121\n",
      "       15/3    1.24074    1.28874 +/- 0.01093\n",
      "       15/4    1.23492    1.28650 +/- 0.01071\n",
      "       15/5    1.29626    1.28689 +/- 0.01028\n",
      "       16/1    1.28408    1.28678 +/- 0.00987\n",
      "       16/2    1.26054    1.28581 +/- 0.00955\n",
      "       16/3    1.29199    1.28603 +/- 0.00921\n",
      "       16/4    1.27158    1.28553 +/- 0.00890\n",
      "       16/5    1.28561    1.28553 +/- 0.00860\n",
      "       17/1    1.31341    1.28643 +/- 0.00836\n",
      "       17/2    1.32712    1.28770 +/- 0.00820\n",
      "       17/3    1.34477    1.28943 +/- 0.00813\n",
      "       17/4    1.36032    1.29152 +/- 0.00816\n",
      "       17/5    1.26044    1.29063 +/- 0.00797\n",
      "       18/1    1.15829    1.28695 +/- 0.00857\n",
      "       18/2    1.32199    1.28790 +/- 0.00839\n",
      "       18/3    1.29632    1.28812 +/- 0.00817\n",
      "       18/4    1.31901    1.28891 +/- 0.00800\n",
      "       18/5    1.27552    1.28858 +/- 0.00780\n",
      "       19/1    1.30543    1.28899 +/- 0.00762\n",
      "       19/2    1.33754    1.29015 +/- 0.00753\n",
      "       19/3    1.21140    1.28831 +/- 0.00758\n",
      "       19/4    1.27301    1.28797 +/- 0.00741\n",
      "       19/5    1.30130    1.28826 +/- 0.00725\n",
      "       20/1    1.30032    1.28852 +/- 0.00709\n",
      "       20/2    1.31966    1.28919 +/- 0.00697\n",
      "       20/3    1.30492    1.28952 +/- 0.00683\n",
      "       20/4    1.25822    1.28888 +/- 0.00672\n",
      "       20/5    1.28391    1.28878 +/- 0.00659\n",
      "       21/1    1.41510    1.29125 +/- 0.00692\n",
      "       21/2    1.26197    1.29069 +/- 0.00681\n",
      "       21/3    1.44283    1.29356 +/- 0.00727\n",
      "       21/4    1.36996    1.29498 +/- 0.00727\n",
      "       21/5    1.28720    1.29483 +/- 0.00714\n",
      "       22/1    1.31498    1.29519 +/- 0.00702\n",
      "       22/2    1.34069    1.29599 +/- 0.00694\n",
      "       22/3    1.29123    1.29591 +/- 0.00682\n",
      "       22/4    1.31840    1.29629 +/- 0.00671\n",
      "       22/5    1.29898    1.29634 +/- 0.00660\n",
      "       23/1    1.31918    1.29671 +/- 0.00650\n",
      "       23/2    1.34267    1.29745 +/- 0.00644\n",
      "       23/3    1.25025    1.29670 +/- 0.00638\n",
      "       23/4    1.26509    1.29621 +/- 0.00630\n",
      "       23/5    1.33843    1.29686 +/- 0.00624\n",
      "       24/1    1.29771    1.29687 +/- 0.00614\n",
      "       24/2    1.38269    1.29815 +/- 0.00618\n",
      "       24/3    1.27413    1.29780 +/- 0.00610\n",
      "       24/4    1.25863    1.29723 +/- 0.00604\n",
      "       24/5    1.32947    1.29769 +/- 0.00597\n",
      "       25/1    1.26481    1.29723 +/- 0.00590\n",
      "       25/2    1.37301    1.29828 +/- 0.00592\n",
      "       25/3    1.35782    1.29910 +/- 0.00589\n",
      "       25/4    1.29030    1.29898 +/- 0.00581\n",
      "       25/5    1.28155    1.29875 +/- 0.00574\n",
      "       26/1    1.32225    1.29906 +/- 0.00567\n",
      "       26/2    1.39549    1.30031 +/- 0.00574\n",
      "       26/3    1.35566    1.30102 +/- 0.00571\n",
      "       26/4    1.33722    1.30148 +/- 0.00565\n",
      "       26/5    1.32906    1.30182 +/- 0.00559\n",
      "       27/1    1.29769    1.30177 +/- 0.00552\n",
      "       27/2    1.28468    1.30156 +/- 0.00546\n",
      "       27/3    1.24148    1.30084 +/- 0.00544\n",
      "       27/4    1.24610    1.30019 +/- 0.00541\n",
      "       27/5    1.27265    1.29986 +/- 0.00536\n",
      "       28/1    1.15161    1.29814 +/- 0.00557\n",
      "       28/2    1.22843    1.29734 +/- 0.00556\n",
      "       28/3    1.23328    1.29661 +/- 0.00555\n"
     ]
    },
    {
     "name": "stdout",
     "output_type": "stream",
     "text": [
      "       28/4    1.27811    1.29640 +/- 0.00549\n",
      "       28/5    1.35845    1.29709 +/- 0.00547\n",
      "       29/1    1.34285    1.29759 +/- 0.00544\n",
      "       29/2    1.33894    1.29804 +/- 0.00539\n",
      "       29/3    1.33891    1.29848 +/- 0.00535\n",
      "       29/4    1.20772    1.29752 +/- 0.00538\n",
      "       29/5    1.24939    1.29701 +/- 0.00535\n",
      "       30/1    1.37514    1.29782 +/- 0.00536\n",
      "       30/2    1.31968    1.29805 +/- 0.00531\n",
      "       30/3    1.20280    1.29708 +/- 0.00534\n",
      "       30/4    1.30412    1.29715 +/- 0.00529\n",
      "       30/5    1.28938    1.29707 +/- 0.00524\n",
      "       31/1    1.32373    1.29733 +/- 0.00519\n",
      "       31/2    1.37908    1.29814 +/- 0.00520\n",
      "       31/3    1.27985    1.29796 +/- 0.00515\n",
      "       31/4    1.32753    1.29824 +/- 0.00511\n",
      "       31/5    1.36225    1.29885 +/- 0.00510\n",
      "       32/1    1.30936    1.29895 +/- 0.00505\n",
      "       32/2    1.22820    1.29829 +/- 0.00505\n",
      "       32/3    1.27471    1.29807 +/- 0.00501\n",
      "       32/4    1.28422    1.29794 +/- 0.00496\n",
      "       32/5    1.31815    1.29813 +/- 0.00492\n",
      "       33/1    1.31862    1.29831 +/- 0.00488\n",
      "       33/2    1.26258    1.29799 +/- 0.00484\n",
      "       33/3    1.30524    1.29806 +/- 0.00480\n",
      "       33/4    1.32736    1.29831 +/- 0.00477\n",
      "       33/5    1.30547    1.29838 +/- 0.00473\n",
      "       34/1    1.33954    1.29873 +/- 0.00470\n",
      "       34/2    1.22603    1.29811 +/- 0.00470\n",
      "       34/3    1.27698    1.29793 +/- 0.00466\n",
      "       34/4    1.25482    1.29757 +/- 0.00464\n",
      "       34/5    1.23146    1.29702 +/- 0.00463\n",
      "       35/1    1.27192    1.29681 +/- 0.00460\n",
      "       35/2    1.25736    1.29649 +/- 0.00457\n",
      "       35/3    1.31436    1.29663 +/- 0.00454\n",
      "       35/4    1.24673    1.29623 +/- 0.00452\n",
      "       35/5    1.24814    1.29585 +/- 0.00450\n",
      "       36/1    1.32694    1.29609 +/- 0.00447\n",
      "       36/2    1.27683    1.29594 +/- 0.00444\n",
      "       36/3    1.21513    1.29531 +/- 0.00445\n",
      "       36/4    1.30609    1.29539 +/- 0.00441\n",
      "       36/5    1.26873    1.29519 +/- 0.00438\n",
      "       37/1    1.23251    1.29471 +/- 0.00438\n",
      "       37/2    1.25978    1.29444 +/- 0.00435\n",
      "       37/3    1.36122    1.29495 +/- 0.00435\n",
      "       37/4    1.33226    1.29523 +/- 0.00432\n",
      "       37/5    1.29329    1.29521 +/- 0.00429\n",
      "       38/1    1.24159    1.29482 +/- 0.00428\n",
      "       38/2    1.23182    1.29436 +/- 0.00427\n",
      "       38/3    1.36986    1.29490 +/- 0.00428\n",
      "       38/4    1.28011    1.29480 +/- 0.00425\n",
      "       38/5    1.30148    1.29485 +/- 0.00422\n",
      "       39/1    1.29666    1.29486 +/- 0.00419\n",
      "       39/2    1.43599    1.29585 +/- 0.00427\n",
      "       39/3    1.30384    1.29591 +/- 0.00424\n",
      "       39/4    1.25038    1.29559 +/- 0.00423\n",
      "       39/5    1.38646    1.29622 +/- 0.00424\n",
      "       40/1    1.31357    1.29634 +/- 0.00422\n",
      "       40/2    1.34841    1.29669 +/- 0.00420\n",
      "       40/3    1.30347    1.29674 +/- 0.00417\n",
      "       40/4    1.30692    1.29681 +/- 0.00415\n",
      "       40/5    1.24575    1.29647 +/- 0.00413\n",
      "       41/1    1.34408    1.29678 +/- 0.00412\n",
      "       41/2    1.22724    1.29632 +/- 0.00412\n",
      "       41/3    1.26414    1.29611 +/- 0.00409\n",
      "       41/4    1.25472    1.29584 +/- 0.00408\n",
      "       41/5    1.24509    1.29552 +/- 0.00406\n",
      "       42/1    1.27943    1.29541 +/- 0.00404\n",
      "       42/2    1.24168    1.29507 +/- 0.00403\n",
      "       42/3    1.27178    1.29492 +/- 0.00400\n",
      "       42/4    1.29809    1.29494 +/- 0.00398\n",
      "       42/5    1.34583    1.29526 +/- 0.00397\n",
      "       43/1    1.22244    1.29481 +/- 0.00397\n",
      "       43/2    1.32323    1.29498 +/- 0.00395\n",
      "       43/3    1.24968    1.29471 +/- 0.00393\n",
      "       43/4    1.26638    1.29453 +/- 0.00391\n",
      "       43/5    1.27412    1.29441 +/- 0.00389\n",
      "       44/1    1.29170    1.29439 +/- 0.00387\n",
      "       44/2    1.20133    1.29384 +/- 0.00388\n",
      "       44/3    1.29431    1.29384 +/- 0.00386\n",
      "       44/4    1.30795    1.29392 +/- 0.00384\n",
      "       44/5    1.18905    1.29331 +/- 0.00387\n",
      "       45/1    1.38150    1.29382 +/- 0.00388\n",
      "       45/2    1.30673    1.29390 +/- 0.00386\n",
      "       45/3    1.27295    1.29378 +/- 0.00384\n",
      "       45/4    1.35332    1.29412 +/- 0.00383\n",
      "       45/5    1.24584    1.29384 +/- 0.00382\n",
      "       46/1    1.24949    1.29359 +/- 0.00380\n",
      "       46/2    1.29592    1.29360 +/- 0.00378\n",
      "       46/3    1.33455    1.29383 +/- 0.00377\n",
      "       46/4    1.37822    1.29431 +/- 0.00378\n",
      "       46/5    1.36174    1.29468 +/- 0.00377\n",
      "       47/1    1.38727    1.29519 +/- 0.00379\n",
      "       47/2    1.30914    1.29527 +/- 0.00377\n",
      "       47/3    1.29915    1.29529 +/- 0.00375\n",
      "       47/4    1.27983    1.29521 +/- 0.00373\n",
      "       47/5    1.26658    1.29505 +/- 0.00371\n",
      "       48/1    1.26475    1.29489 +/- 0.00369\n",
      "       48/2    1.36891    1.29528 +/- 0.00369\n",
      "       48/3    1.27693    1.29519 +/- 0.00368\n",
      "       48/4    1.31680    1.29530 +/- 0.00366\n",
      "       48/5    1.31582    1.29541 +/- 0.00364\n",
      "       49/1    1.32585    1.29557 +/- 0.00363\n",
      "       49/2    1.38275    1.29602 +/- 0.00364\n",
      "       49/3    1.27152    1.29589 +/- 0.00362\n",
      "       49/4    1.35612    1.29620 +/- 0.00361\n",
      "       49/5    1.33033    1.29638 +/- 0.00360\n",
      "       50/1    1.30965    1.29645 +/- 0.00358\n",
      "       50/2    1.28537    1.29639 +/- 0.00356\n",
      "       50/3    1.28281    1.29632 +/- 0.00355\n",
      "       50/4    1.33603    1.29652 +/- 0.00353\n",
      "       50/5    1.32581    1.29667 +/- 0.00352\n",
      "       51/1    1.22774    1.29633 +/- 0.00352\n",
      "       51/2    1.20699    1.29588 +/- 0.00353\n",
      "       51/3    1.29855    1.29590 +/- 0.00351\n",
      "       51/4    1.21204    1.29549 +/- 0.00352\n",
      "       51/5    1.28884    1.29545 +/- 0.00350\n",
      "       52/1    1.29267    1.29544 +/- 0.00348\n",
      "       52/2    1.16571    1.29481 +/- 0.00352\n",
      "       52/3    1.30295    1.29485 +/- 0.00351\n",
      "       52/4    1.31612    1.29495 +/- 0.00349\n",
      "       52/5    1.30717    1.29501 +/- 0.00347\n",
      "       53/1    1.30572    1.29506 +/- 0.00346\n",
      "       53/2    1.26998    1.29494 +/- 0.00344\n",
      "       53/3    1.32688    1.29509 +/- 0.00343\n",
      "       53/4    1.28462    1.29505 +/- 0.00342\n",
      "       53/5    1.31561    1.29514 +/- 0.00340\n",
      "       54/1    1.23602    1.29487 +/- 0.00340\n",
      "       54/2    1.26386    1.29472 +/- 0.00338\n",
      "       54/3    1.27232    1.29462 +/- 0.00337\n",
      "       54/4    1.19479    1.29417 +/- 0.00339\n",
      "       54/5    1.30954    1.29424 +/- 0.00337\n",
      "       55/1    1.36648    1.29456 +/- 0.00337\n",
      "       55/2    1.32259    1.29469 +/- 0.00336\n",
      "       55/3    1.31826    1.29479 +/- 0.00334\n",
      "       55/4    1.33630    1.29498 +/- 0.00334\n",
      "       55/5    1.28200    1.29492 +/- 0.00332\n",
      "       56/1    1.29978    1.29494 +/- 0.00331\n",
      "       56/2    1.46587    1.29570 +/- 0.00338\n",
      "       56/3    1.38723    1.29610 +/- 0.00339\n",
      "       56/4    1.26623    1.29597 +/- 0.00337\n",
      "       56/5    1.31776    1.29606 +/- 0.00336\n",
      "       57/1    1.28698    1.29602 +/- 0.00335\n",
      "       57/2    1.17951    1.29552 +/- 0.00337\n",
      "       57/3    1.34872    1.29575 +/- 0.00336\n",
      "       57/4    1.28861    1.29572 +/- 0.00335\n",
      "       57/5    1.31615    1.29581 +/- 0.00333\n",
      "       58/1    1.25411    1.29563 +/- 0.00333\n",
      "       58/2    1.34408    1.29583 +/- 0.00332\n",
      "       58/3    1.29021    1.29581 +/- 0.00330\n",
      "       58/4    1.31452    1.29589 +/- 0.00329\n",
      "       58/5    1.32887    1.29603 +/- 0.00328\n",
      "       59/1    1.26294    1.29589 +/- 0.00327\n",
      "       59/2    1.27900    1.29582 +/- 0.00326\n",
      "       59/3    1.27805    1.29575 +/- 0.00324\n",
      "       59/4    1.26642    1.29563 +/- 0.00323\n",
      "       59/5    1.29253    1.29561 +/- 0.00322\n",
      "       60/1    1.28632    1.29557 +/- 0.00321\n",
      "       60/2    1.27404    1.29549 +/- 0.00319\n",
      "       60/3    1.25668    1.29533 +/- 0.00319\n",
      "       60/4    1.23916    1.29511 +/- 0.00318\n",
      "       60/5    1.28260    1.29506 +/- 0.00317\n",
      "       61/1    1.22402    1.29477 +/- 0.00317\n",
      "       61/2    1.28842    1.29475 +/- 0.00316\n",
      "       61/3    1.38889    1.29512 +/- 0.00317\n",
      "       61/4    1.32580    1.29524 +/- 0.00316\n",
      "       61/5    1.30033    1.29526 +/- 0.00314\n",
      "       62/1    1.30810    1.29531 +/- 0.00313\n",
      "       62/2    1.36046    1.29556 +/- 0.00313\n",
      "       62/3    1.16347    1.29505 +/- 0.00316\n",
      "       62/4    1.31619    1.29513 +/- 0.00315\n",
      "       62/5    1.25878    1.29499 +/- 0.00314\n",
      "       63/1    1.21829    1.29470 +/- 0.00314\n",
      "       63/2    1.25905    1.29456 +/- 0.00313\n",
      "       63/3    1.30753    1.29461 +/- 0.00312\n",
      "       63/4    1.23917    1.29440 +/- 0.00311\n",
      "       63/5    1.23827    1.29419 +/- 0.00311\n",
      "       64/1    1.25581    1.29405 +/- 0.00310\n",
      "       64/2    1.31437    1.29412 +/- 0.00309\n"
     ]
    },
    {
     "name": "stdout",
     "output_type": "stream",
     "text": [
      "       64/3    1.38864    1.29448 +/- 0.00310\n",
      "       64/4    1.30820    1.29453 +/- 0.00309\n",
      "       64/5    1.28407    1.29449 +/- 0.00308\n",
      "       65/1    1.32341    1.29459 +/- 0.00307\n",
      "       65/2    1.33015    1.29473 +/- 0.00306\n",
      "       65/3    1.34848    1.29492 +/- 0.00305\n",
      "       65/4    1.33131    1.29505 +/- 0.00305\n",
      "       65/5    1.28339    1.29501 +/- 0.00304\n",
      "       66/1    1.34177    1.29518 +/- 0.00303\n",
      "       66/2    1.26095    1.29506 +/- 0.00302\n",
      "       66/3    1.31848    1.29514 +/- 0.00301\n",
      "       66/4    1.27613    1.29507 +/- 0.00300\n",
      "       66/5    1.27570    1.29501 +/- 0.00299\n",
      "       67/1    1.31552    1.29508 +/- 0.00298\n",
      "       67/2    1.28468    1.29504 +/- 0.00297\n",
      "       67/3    1.28264    1.29500 +/- 0.00296\n",
      "       67/4    1.31757    1.29508 +/- 0.00295\n",
      "       67/5    1.22731    1.29484 +/- 0.00295\n",
      "       68/1    1.24137    1.29465 +/- 0.00295\n",
      "       68/2    1.33824    1.29480 +/- 0.00294\n",
      "       68/3    1.22529    1.29456 +/- 0.00294\n",
      "       68/4    1.29876    1.29458 +/- 0.00293\n",
      "       68/5    1.28827    1.29456 +/- 0.00292\n",
      "       69/1    1.22965    1.29433 +/- 0.00292\n",
      "       69/2    1.25847    1.29421 +/- 0.00291\n",
      "       69/3    1.19898    1.29388 +/- 0.00292\n",
      "       69/4    1.29402    1.29389 +/- 0.00291\n",
      "       69/5    1.25824    1.29376 +/- 0.00290\n",
      "       70/1    1.30725    1.29381 +/- 0.00289\n",
      "       70/2    1.33298    1.29394 +/- 0.00289\n",
      "       70/3    1.36642    1.29419 +/- 0.00289\n",
      "       70/4    1.27018    1.29410 +/- 0.00288\n",
      "       70/5    1.27578    1.29404 +/- 0.00287\n",
      "       71/1    1.28203    1.29400 +/- 0.00286\n",
      "       71/2    1.20863    1.29372 +/- 0.00286\n",
      "       71/3    1.28786    1.29370 +/- 0.00285\n",
      "       71/4    1.24883    1.29355 +/- 0.00285\n",
      "       71/5    1.35302    1.29375 +/- 0.00285\n",
      "       72/1    1.31605    1.29382 +/- 0.00284\n",
      "       72/2    1.29646    1.29383 +/- 0.00283\n",
      "       72/3    1.26222    1.29373 +/- 0.00282\n",
      "       72/4    1.31568    1.29380 +/- 0.00281\n",
      "       72/5    1.31331    1.29386 +/- 0.00280\n",
      "       73/1    1.30060    1.29388 +/- 0.00280\n",
      "       73/2    1.28580    1.29386 +/- 0.00279\n",
      "       73/3    1.28577    1.29383 +/- 0.00278\n",
      "       73/4    1.33685    1.29397 +/- 0.00277\n",
      "       73/5    1.21518    1.29372 +/- 0.00277\n",
      "       74/1    1.33841    1.29386 +/- 0.00277\n",
      "       74/2    1.33001    1.29397 +/- 0.00276\n",
      "       74/3    1.20134    1.29368 +/- 0.00277\n",
      "       74/4    1.33114    1.29380 +/- 0.00276\n",
      "       74/5    1.36178    1.29401 +/- 0.00276\n",
      "       75/1    1.23565    1.29383 +/- 0.00276\n",
      "       75/2    1.33826    1.29397 +/- 0.00276\n",
      "       75/3    1.27201    1.29390 +/- 0.00275\n",
      "       75/4    1.41323    1.29427 +/- 0.00276\n",
      "       75/5    1.20206    1.29399 +/- 0.00277\n",
      "       76/1    1.30057    1.29401 +/- 0.00276\n",
      "       76/2    1.31259    1.29406 +/- 0.00275\n",
      "       76/3    1.26249    1.29397 +/- 0.00275\n",
      "       76/4    1.36266    1.29418 +/- 0.00275\n",
      "       76/5    1.30929    1.29422 +/- 0.00274\n",
      "       77/1    1.29752    1.29423 +/- 0.00273\n",
      "       77/2    1.18111    1.29389 +/- 0.00274\n",
      "       77/3    1.17486    1.29353 +/- 0.00276\n",
      "       77/4    1.28404    1.29350 +/- 0.00275\n",
      "       77/5    1.31889    1.29358 +/- 0.00274\n",
      "       78/1    1.28833    1.29356 +/- 0.00273\n",
      "       78/2    1.28120    1.29353 +/- 0.00273\n",
      "       78/3    1.28523    1.29350 +/- 0.00272\n",
      "       78/4    1.27161    1.29344 +/- 0.00271\n",
      "       78/5    1.30813    1.29348 +/- 0.00270\n",
      "       79/1    1.28823    1.29347 +/- 0.00270\n",
      "       79/2    1.31234    1.29352 +/- 0.00269\n",
      "       79/3    1.34114    1.29366 +/- 0.00268\n",
      "       79/4    1.24769    1.29353 +/- 0.00268\n",
      "       79/5    1.26648    1.29345 +/- 0.00267\n",
      "       80/1    1.35577    1.29363 +/- 0.00267\n",
      "       80/2    1.31380    1.29369 +/- 0.00266\n",
      "       80/3    1.29435    1.29369 +/- 0.00266\n",
      "       80/4    1.27871    1.29365 +/- 0.00265\n",
      "       80/5    1.29677    1.29365 +/- 0.00264\n",
      "       81/1    1.34805    1.29381 +/- 0.00264\n",
      "       81/2    1.33195    1.29392 +/- 0.00263\n",
      "       81/3    1.24789    1.29379 +/- 0.00263\n",
      "       81/4    1.36238    1.29398 +/- 0.00263\n",
      "       81/5    1.31167    1.29403 +/- 0.00262\n",
      "       82/1    1.32506    1.29412 +/- 0.00262\n",
      "       82/2    1.33230    1.29423 +/- 0.00261\n",
      "       82/3    1.28720    1.29421 +/- 0.00260\n",
      "       82/4    1.28103    1.29417 +/- 0.00260\n",
      "       82/5    1.25549    1.29406 +/- 0.00259\n",
      "       83/1    1.18286    1.29375 +/- 0.00260\n",
      "       83/2    1.29674    1.29376 +/- 0.00260\n",
      "       83/3    1.25634    1.29366 +/- 0.00259\n",
      "       83/4    1.30272    1.29368 +/- 0.00258\n",
      "       83/5    1.29812    1.29370 +/- 0.00258\n",
      "       84/1    1.28570    1.29367 +/- 0.00257\n",
      "       84/2    1.28439    1.29365 +/- 0.00256\n",
      "       84/3    1.34187    1.29378 +/- 0.00256\n",
      "       84/4    1.23117    1.29361 +/- 0.00256\n",
      "       84/5    1.32511    1.29370 +/- 0.00255\n",
      "       85/1    1.33777    1.29381 +/- 0.00255\n",
      "       85/2    1.26719    1.29374 +/- 0.00254\n",
      "       85/3    1.27082    1.29368 +/- 0.00254\n",
      "       85/4    1.32478    1.29376 +/- 0.00253\n",
      "       85/5    1.21301    1.29355 +/- 0.00253\n",
      "       86/1    1.25367    1.29344 +/- 0.00253\n",
      "       86/2    1.35057    1.29359 +/- 0.00253\n",
      "       86/3    1.18784    1.29331 +/- 0.00254\n",
      "       86/4    1.25647    1.29322 +/- 0.00253\n",
      "       86/5    1.26814    1.29315 +/- 0.00252\n",
      "       87/1    1.26757    1.29308 +/- 0.00252\n",
      "       87/2    1.31838    1.29315 +/- 0.00251\n",
      "       87/3    1.33820    1.29327 +/- 0.00251\n",
      "       87/4    1.31532    1.29333 +/- 0.00250\n",
      "       87/5    1.41955    1.29365 +/- 0.00252\n",
      "       88/1    1.31157    1.29370 +/- 0.00251\n",
      "       88/2    1.28535    1.29368 +/- 0.00251\n",
      "       88/3    1.25875    1.29359 +/- 0.00250\n",
      "       88/4    1.31334    1.29364 +/- 0.00250\n",
      "       88/5    1.30812    1.29368 +/- 0.00249\n",
      "       89/1    1.29593    1.29368 +/- 0.00248\n",
      "       89/2    1.18646    1.29341 +/- 0.00249\n",
      "       89/3    1.28145    1.29338 +/- 0.00249\n",
      "       89/4    1.33689    1.29349 +/- 0.00248\n",
      "       89/5    1.35500    1.29364 +/- 0.00248\n",
      "       90/1    1.25936    1.29356 +/- 0.00248\n",
      "       90/2    1.27989    1.29352 +/- 0.00247\n",
      "       90/3    1.35936    1.29369 +/- 0.00247\n",
      "       90/4    1.29393    1.29369 +/- 0.00246\n",
      "       90/5    1.27259    1.29364 +/- 0.00246\n",
      "       91/1    1.33005    1.29373 +/- 0.00245\n",
      "       91/2    1.30258    1.29375 +/- 0.00245\n",
      "       91/3    1.32318    1.29382 +/- 0.00244\n",
      "       91/4    1.30161    1.29384 +/- 0.00244\n",
      "       91/5    1.30030    1.29386 +/- 0.00243\n",
      "       92/1    1.30405    1.29388 +/- 0.00242\n",
      "       92/2    1.35938    1.29404 +/- 0.00242\n",
      "       92/3    1.29519    1.29405 +/- 0.00242\n",
      "       92/4    1.29229    1.29404 +/- 0.00241\n",
      "       92/5    1.28678    1.29402 +/- 0.00241\n",
      "       93/1    1.28443    1.29400 +/- 0.00240\n",
      "       93/2    1.48260    1.29446 +/- 0.00244\n",
      "       93/3    1.27437    1.29441 +/- 0.00243\n",
      "       93/4    1.27671    1.29437 +/- 0.00243\n",
      "       93/5    1.28820    1.29435 +/- 0.00242\n",
      "       94/1    1.20745    1.29414 +/- 0.00242\n",
      "       94/2    1.25708    1.29405 +/- 0.00242\n",
      "       94/3    1.26988    1.29400 +/- 0.00241\n",
      "       94/4    1.30226    1.29402 +/- 0.00241\n",
      "       94/5    1.35797    1.29417 +/- 0.00241\n",
      "       95/1    1.25428    1.29407 +/- 0.00240\n",
      "       95/2    1.23003    1.29392 +/- 0.00240\n",
      "       95/3    1.26350    1.29385 +/- 0.00240\n",
      "       95/4    1.27870    1.29381 +/- 0.00239\n",
      "       95/5    1.31207    1.29386 +/- 0.00239\n",
      "       96/1    1.35507    1.29400 +/- 0.00239\n",
      "       96/2    1.35384    1.29414 +/- 0.00239\n",
      "       96/3    1.32814    1.29422 +/- 0.00238\n",
      "       96/4    1.36159    1.29438 +/- 0.00238\n",
      "       96/5    1.29211    1.29437 +/- 0.00237\n",
      "       97/1    1.25738    1.29429 +/- 0.00237\n",
      "       97/2    1.23826    1.29416 +/- 0.00237\n",
      "       97/3    1.20766    1.29396 +/- 0.00237\n",
      "       97/4    1.11973    1.29356 +/- 0.00240\n",
      "       97/5    1.23048    1.29341 +/- 0.00240\n",
      "       98/1    1.28730    1.29340 +/- 0.00239\n",
      "       98/2    1.24396    1.29328 +/- 0.00239\n",
      "       98/3    1.19396    1.29306 +/- 0.00240\n",
      "       98/4    1.27412    1.29301 +/- 0.00239\n",
      "       98/5    1.27364    1.29297 +/- 0.00239\n",
      "       99/1    1.29868    1.29298 +/- 0.00238\n",
      "       99/2    1.19969    1.29277 +/- 0.00238\n",
      "       99/3    1.29960    1.29279 +/- 0.00238\n",
      "       99/4    1.27593    1.29275 +/- 0.00237\n",
      "       99/5    1.31672    1.29280 +/- 0.00237\n",
      "      100/1    1.27223    1.29276 +/- 0.00236\n",
      "      100/2    1.25856    1.29268 +/- 0.00236\n",
      "      100/3    1.37067    1.29285 +/- 0.00236\n",
      "      100/4    1.31818    1.29291 +/- 0.00236\n",
      "      100/5    1.32076    1.29297 +/- 0.00235\n",
      " Creating state point statepoint.100.h5...\n"
     ]
    },
    {
     "name": "stdout",
     "output_type": "stream",
     "text": [
      "\n",
      " =======================>     TIMING STATISTICS     <=======================\n",
      "\n",
      " Total time for initialization     =  1.8368E+00 seconds\n",
      "   Reading cross sections          =  1.4705E+00 seconds\n",
      " Total time in simulation          =  2.5646E+01 seconds\n",
      "   Time in transport only          =  2.2042E+01 seconds\n",
      "   Time in inactive batches        =  2.0081E+00 seconds\n",
      "   Time in active batches          =  2.3638E+01 seconds\n",
      "   Time synchronizing fission bank =  3.3486E+00 seconds\n",
      "     Sampling source sites         =  1.9346E-02 seconds\n",
      "     SEND/RECV source sites        =  7.8420E-03 seconds\n",
      "   Time accumulating tallies       =  2.3690E-03 seconds\n",
      " Total time for finalization       =  7.5760E-03 seconds\n",
      " Total time elapsed                =  2.7493E+01 seconds\n",
      " Calculation Rate (inactive)       =  24899.0 neutrons/second\n",
      " Calculation Rate (active)         =  19036.9 neutrons/second\n",
      "\n",
      " ============================>     RESULTS     <============================\n",
      "\n",
      " k-effective (Collision)     =  1.29206 +/-  0.00226\n",
      " k-effective (Track-length)  =  1.29297 +/-  0.00279\n",
      " k-effective (Absorption)    =  1.29117 +/-  0.00155\n",
      " Combined k-effective        =  1.29134 +/-  0.00154\n",
      " Leakage Fraction            =  0.00000 +/-  0.00000\n",
      "\n"
     ]
    },
    {
     "data": {
      "text/plain": [
       "0"
      ]
     },
     "execution_count": 123,
     "metadata": {},
     "output_type": "execute_result"
    }
   ],
   "source": [
    "openmc.run(threads=2,mpi_args=['mpiexec', '-n', '6'])"
   ]
  },
  {
   "cell_type": "markdown",
   "metadata": {},
   "source": [
    "Great! OpenMC already told us our k-effective. It also spit out a file called `tallies.out` that shows our tallies. This is a very basic method to look at tally data; for more sophisticated methods, see other example notebooks."
   ]
  },
  {
   "cell_type": "code",
   "execution_count": 124,
   "metadata": {},
   "outputs": [
    {
     "name": "stdout",
     "output_type": "stream",
     "text": [
      "\r\n",
      " ============================>     TALLY 1     <============================\r\n",
      "\r\n",
      " Cell 1\r\n",
      "   U235\r\n",
      "     Total Reaction Rate                  0.718224       +/- 1.41356E-03\r\n",
      "     Fission Rate                         0.488768       +/- 1.12778E-03\r\n",
      "     Absorption Rate                      0.600628       +/- 1.33927E-03\r\n",
      "     (n,gamma)                            0.111860       +/- 2.20761E-04\r\n",
      "   U238\r\n",
      "     Total Reaction Rate                  4.33137        +/- 3.57631E-03\r\n",
      "     Fission Rate                         3.62207E-02    +/- 7.94905E-05\r\n",
      "     Absorption Rate                      0.357607       +/- 6.66951E-04\r\n",
      "     (n,gamma)                            0.321642       +/- 6.49197E-04\r\n",
      " Cell 3\r\n",
      "   U235\r\n",
      "     Total Reaction Rate                  0.0            +/- 0.0\r\n",
      "     Fission Rate                         0.0            +/- 0.0\r\n",
      "     Absorption Rate                      0.0            +/- 0.0\r\n",
      "     (n,gamma)                            0.0            +/- 0.0\r\n",
      "   U238\r\n",
      "     Total Reaction Rate                  0.0            +/- 0.0\r\n",
      "     Fission Rate                         0.0            +/- 0.0\r\n",
      "     Absorption Rate                      0.0            +/- 0.0\r\n",
      "     (n,gamma)                            0.0            +/- 0.0\r\n"
     ]
    }
   ],
   "source": [
    "!cat tallies.out"
   ]
  },
  {
   "cell_type": "markdown",
   "metadata": {},
   "source": [
    "## Geometry plotting\n",
    "\n",
    "We saw before that we could call the `Universe.plot()` method to show a universe while we were creating our geometry. There is also a built-in plotter in the Fortran codebase that is much faster than the Python plotter and has more options. The interface looks somewhat similar to the `Universe.plot()` method. Instead though, we create `Plot` instances, assign them to a `Plots` collection, export it to XML, and then run OpenMC in geometry plotting mode. As an example, let's specify that we want the plot to be colored by material (rather than by cell) and we assign yellow to fuel and blue to water."
   ]
  },
  {
   "cell_type": "code",
   "execution_count": 154,
   "metadata": {},
   "outputs": [],
   "source": [
    "p = openmc.Plot()\n",
    "p.filename = 'pinplot'\n",
    "p.width = (pitch+1, pitch+1)\n",
    "p.pixels = (200, 200)\n",
    "p.color_by = 'material'\n",
    "p.colors = {uo2: 'yellow', water: 'blue'}\n",
    "p.background='black'\n",
    "p.mask_components=[fuel,clad ]\n",
    "p.mask_background='red'\n",
    "#p.type='voxel'"
   ]
  },
  {
   "cell_type": "code",
   "execution_count": 155,
   "metadata": {},
   "outputs": [
    {
     "data": {
      "image/png": "[encoded data removed]",
      "text/plain": [
       "<IPython.core.display.Image object>"
      ]
     },
     "metadata": {},
     "output_type": "display_data"
    },
    {
     "name": "stdout",
     "output_type": "stream",
     "text": [
      "Plot\n",
      "\tID             =\t13\n",
      "\tName           =\t\n",
      "\tFilename       =\tpinplot\n",
      "\tType           =\tslice\n",
      "\tBasis          =\txy\n",
      "\tWidth          =\t(2.26, 2.26)\n",
      "\tOrigin         =\t[0.0, 0.0, 0.0]\n",
      "\tPixels         =\t[0.0, 0.0, 0.0]\n",
      "\tColor by       =\tmaterial\n",
      "\tBackground     =\tblack\n",
      "\tMask components=\t[Cell\n",
      "\tID             =\t1\n",
      "\tName           =\tfuel\n",
      "\tFill           =\tMaterial 1\n",
      "\tRegion         =\t-3\n",
      "\tRotation       =\tNone\n",
      "\tTemperature    =\tNone\n",
      "\tTranslation    =\tNone\n",
      ", Cell\n",
      "\tID             =\t3\n",
      "\tName           =\tclad\n",
      "\tFill           =\tMaterial 2\n",
      "\tRegion         =\t(4 -5)\n",
      "\tRotation       =\tNone\n",
      "\tTemperature    =\tNone\n",
      "\tTranslation    =\tNone\n",
      "]\n",
      "\tMask background=\tred\n",
      "\tColors         =\t{Material\n",
      "\tID             =\t1\n",
      "\tName           =\tuo2\n",
      "\tTemperature    =\tNone\n",
      "\tDensity        =\t10.0 [g/cm3]\n",
      "\tS(a,b) Tables  \n",
      "\tNuclides       \n",
      "\tU235           =\t0.03         [ao]\n",
      "\tU238           =\t0.97         [ao]\n",
      "\tO16            =\t2.0          [ao]\n",
      ": 'yellow', Material\n",
      "\tID             =\t3\n",
      "\tName           =\th2o\n",
      "\tTemperature    =\tNone\n",
      "\tDensity        =\t1.0 [g/cm3]\n",
      "\tS(a,b) Tables  \n",
      "\tS(a,b)         =\t('c_H_in_H2O', 1.0)\n",
      "\tNuclides       \n",
      "\tH1             =\t2.0          [ao]\n",
      "\tO16            =\t0.999621     [ao]\n",
      "\tO17            =\t0.000379     [ao]\n",
      ": 'blue'}\n",
      "\tLevel          =\tNone\n",
      "\tMeshlines      =\tNone\n",
      "\n"
     ]
    }
   ],
   "source": [
    "openmc.plot_inline(p)\n",
    "print p\n"
   ]
  },
  {
   "cell_type": "markdown",
   "metadata": {},
   "source": [
    "With our plot created, we need to add it to a `Plots` collection which can be exported to XML."
   ]
  },
  {
   "cell_type": "code",
   "execution_count": 156,
   "metadata": {},
   "outputs": [
    {
     "name": "stdout",
     "output_type": "stream",
     "text": [
      "<?xml version='1.0' encoding='utf-8'?>\r\n",
      "<plots>\r\n",
      "  <plot basis=\"xy\" color_by=\"material\" filename=\"pinplot\" id=\"13\" type=\"slice\">\r\n",
      "    <origin>0.0 0.0 0.0</origin>\r\n",
      "    <width>2.26 2.26</width>\r\n",
      "    <pixels>200 200</pixels>\r\n",
      "    <background>0 0 0</background>\r\n",
      "    <color id=\"1\" rgb=\"255 255 0\" />\r\n",
      "    <color id=\"3\" rgb=\"0 0 255\" />\r\n",
      "    <mask background=\"255 0 0\" components=\"1 3\" />\r\n",
      "  </plot>\r\n",
      "</plots>\r\n"
     ]
    }
   ],
   "source": [
    "plots = openmc.Plots([p])\n",
    "plots.export_to_xml()\n",
    "!cat plots.xml"
   ]
  },
  {
   "cell_type": "markdown",
   "metadata": {},
   "source": [
    "Now we can run OpenMC in plotting mode by calling the `plot_geometry()` function. Under the hood this is calling `openmc --plot`."
   ]
  },
  {
   "cell_type": "code",
   "execution_count": 157,
   "metadata": {},
   "outputs": [
    {
     "name": "stdout",
     "output_type": "stream",
     "text": [
      "\n",
      "                               %%%%%%%%%%%%%%%\n",
      "                          %%%%%%%%%%%%%%%%%%%%%%%%\n",
      "                       %%%%%%%%%%%%%%%%%%%%%%%%%%%%%%\n",
      "                     %%%%%%%%%%%%%%%%%%%%%%%%%%%%%%%%%%\n",
      "                   %%%%%%%%%%%%%%%%%%%%%%%%%%%%%%%%%%%%%%\n",
      "                  %%%%%%%%%%%%%%%%%%%%%%%%%%%%%%%%%%%%%%%%\n",
      "                                   %%%%%%%%%%%%%%%%%%%%%%%%\n",
      "                                    %%%%%%%%%%%%%%%%%%%%%%%%\n",
      "                ###############      %%%%%%%%%%%%%%%%%%%%%%%%\n",
      "               ##################     %%%%%%%%%%%%%%%%%%%%%%%\n",
      "               ###################     %%%%%%%%%%%%%%%%%%%%%%%\n",
      "               ####################     %%%%%%%%%%%%%%%%%%%%%%\n",
      "               #####################     %%%%%%%%%%%%%%%%%%%%%\n",
      "               ######################     %%%%%%%%%%%%%%%%%%%%\n",
      "               #######################     %%%%%%%%%%%%%%%%%%\n",
      "                #######################     %%%%%%%%%%%%%%%%%\n",
      "                ######################     %%%%%%%%%%%%%%%%%\n",
      "                 ####################     %%%%%%%%%%%%%%%%%\n",
      "                   #################     %%%%%%%%%%%%%%%%%\n",
      "                    ###############     %%%%%%%%%%%%%%%%\n",
      "                      ############     %%%%%%%%%%%%%%%\n",
      "                         ########     %%%%%%%%%%%%%%\n",
      "                                     %%%%%%%%%%%\n",
      "\n",
      "                   | The OpenMC Monte Carlo Code\n",
      "         Copyright | 2011-2018 Massachusetts Institute of Technology\n",
      "           License | http://openmc.readthedocs.io/en/latest/license.html\n",
      "           Version | 0.10.0\n",
      "          Git SHA1 | 455efffdbf6eacbc0b3b93ad61cfeb24490897d8\n",
      "         Date/Time | 2018-07-21 22:43:03\n",
      "     MPI Processes | 1\n",
      "    OpenMP Threads | 12\n",
      "\n",
      " Reading settings XML file...\n",
      " Reading cross sections XML file...\n",
      " Reading materials XML file...\n",
      " Reading geometry XML file...\n",
      " Building neighboring cells lists for each surface...\n",
      " Reading tallies XML file...\n",
      " Reading plot XML file...\n",
      "\n",
      " =======================>     PLOTTING SUMMARY     <========================\n",
      "\n",
      " Plot ID:               13\n",
      " Plot file:             pinplot.ppm\n",
      " Universe depth:        -1\n",
      " Plot Type:             Slice\n",
      " Origin:                0.0 0.0 0.0\n",
      " Width:                 2.26000 2.26000\n",
      " Coloring:              Materials\n",
      " Basis:                 xy\n",
      " Pixels:                200 200\n",
      "\n",
      " Processing plot 13: pinplot.ppm ...\n"
     ]
    },
    {
     "data": {
      "text/plain": [
       "0"
      ]
     },
     "execution_count": 157,
     "metadata": {},
     "output_type": "execute_result"
    }
   ],
   "source": [
    "openmc.plot_geometry()"
   ]
  },
  {
   "cell_type": "markdown",
   "metadata": {},
   "source": [
    "OpenMC writes out a peculiar image with a `.ppm` extension. If you have ImageMagick installed, this can be converted into a more normal `.png` file."
   ]
  },
  {
   "cell_type": "code",
   "execution_count": 128,
   "metadata": {},
   "outputs": [],
   "source": [
    "!convert pinplot.ppm pinplot.png"
   ]
  },
  {
   "cell_type": "markdown",
   "metadata": {},
   "source": [
    "We can use functionality from IPython to display the image inline in our notebook:"
   ]
  },
  {
   "cell_type": "code",
   "execution_count": 129,
   "metadata": {
    "scrolled": false
   },
   "outputs": [
    {
     "data": {
      "image/png": "[encoded data removed]",
      "text/plain": [
       "<IPython.core.display.Image object>"
      ]
     },
     "execution_count": 129,
     "metadata": {},
     "output_type": "execute_result"
    }
   ],
   "source": [
    "from IPython.display import Image\n",
    "Image(\"pinplot.png\")"
   ]
  },
  {
   "cell_type": "markdown",
   "metadata": {},
   "source": [
    "That was a little bit cumbersome. Thankfully, OpenMC provides us with a function that does all that \"boilerplate\" work."
   ]
  },
  {
   "cell_type": "code",
   "execution_count": 130,
   "metadata": {},
   "outputs": [
    {
     "data": {
      "image/png": "[encoded data removed]",
      "text/plain": [
       "<IPython.core.display.Image object>"
      ]
     },
     "metadata": {},
     "output_type": "display_data"
    }
   ],
   "source": [
    "openmc.plot_inline(p)"
   ]
  },
  {
   "cell_type": "code",
   "execution_count": null,
   "metadata": {},
   "outputs": [],
   "source": []
  }
 ],
 "metadata": {
  "anaconda-cloud": {},
  "kernelspec": {
   "display_name": "Python 2",
   "language": "python",
   "name": "python2"
  },
  "language_info": {
   "codemirror_mode": {
    "name": "ipython",
    "version": 2
   },
   "file_extension": ".py",
   "mimetype": "text/x-python",
   "name": "python",
   "nbconvert_exporter": "python",
   "pygments_lexer": "ipython2",
   "version": "2.7.12"
  }
 },
 "nbformat": 4,
 "nbformat_minor": 1
}
