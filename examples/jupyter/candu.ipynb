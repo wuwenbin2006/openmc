{
 "cells": [
  {
   "cell_type": "markdown",
   "metadata": {},
   "source": [
    "In this example, we will create a typical CANDU bundle with rings of fuel pins. At present, OpenMC does not have a specialized lattice for this type of fuel arrangement, so we must resort to manual creation of the array of fuel pins."
   ]
  },
  {
   "cell_type": "code",
   "execution_count": null,
   "metadata": {},
   "outputs": [],
   "source": [
    "%matplotlib inline\n",
    "from math import pi, sin, cos\n",
    "import numpy as np\n",
    "import openmc"
   ]
  },
  {
   "cell_type": "markdown",
   "metadata": {},
   "source": [
    "Let's begin by creating the materials that will be used in our model."
   ]
  },
  {
   "cell_type": "code",
   "execution_count": 2,
   "metadata": {},
   "outputs": [],
   "source": [
    "fuel = openmc.Material(name='fuel')\n",
    "fuel.add_element('U', 1.0)\n",
    "fuel.add_element('O', 2.0)\n",
    "fuel.set_density('g/cm3', 10.0)\n",
    "\n",
    "clad = openmc.Material(name='zircaloy')\n",
    "clad.add_element('Zr', 1.0)\n",
    "clad.set_density('g/cm3', 6.0)\n",
    "\n",
    "heavy_water = openmc.Material(name='heavy water')\n",
    "heavy_water.add_nuclide('H2', 2.0)\n",
    "heavy_water.add_nuclide('O16', 1.0)\n",
    "heavy_water.add_s_alpha_beta('c_D_in_D2O')\n",
    "heavy_water.set_density('g/cm3', 1.1)"
   ]
  },
  {
   "cell_type": "markdown",
   "metadata": {},
   "source": [
    "With out materials created, we'll now define key dimensions in our model. These dimensions are taken from the example in section 11.1.3 of the [Serpent manual](http://montecarlo.vtt.fi/download/Serpent_manual.pdf)."
   ]
  },
  {
   "cell_type": "code",
   "execution_count": 3,
   "metadata": {},
   "outputs": [],
   "source": [
    "# Outer radius of fuel and clad\n",
    "r_fuel = 0.6122\n",
    "r_clad = 0.6540\n",
    "\n",
    "# Pressure tube and calendria radii\n",
    "pressure_tube_ir = 5.16890\n",
    "pressure_tube_or = 5.60320\n",
    "calendria_ir = 6.44780\n",
    "calendria_or = 6.58750\n",
    "\n",
    "# Radius to center of each ring of fuel pins\n",
    "ring_radii = np.array([0.0, 1.4885, 2.8755, 4.3305])"
   ]
  },
  {
   "cell_type": "markdown",
   "metadata": {},
   "source": [
    "To begin creating the bundle, we'll first create annular regions completely filled with heavy water and add in the fuel pins later. The radii that we've specified above correspond to the center of each ring. We actually need to create cylindrical surfaces at radii that are half-way between the centers."
   ]
  },
  {
   "cell_type": "code",
   "execution_count": 4,
   "metadata": {},
   "outputs": [],
   "source": [
    "# These are the surfaces that will divide each of the rings\n",
    "radial_surf = [openmc.ZCylinder(R=r) for r in\n",
    "               (ring_radii[:-1] + ring_radii[1:])/2]\n",
    "\n",
    "water_cells = []\n",
    "for i in range(ring_radii.size):\n",
    "    # Create annular region\n",
    "    if i == 0:\n",
    "        water_region = -radial_surf[i]\n",
    "    elif i == ring_radii.size - 1:\n",
    "        water_region = +radial_surf[i-1]\n",
    "    else:\n",
    "        water_region = +radial_surf[i-1] & -radial_surf[i]\n",
    "        \n",
    "    water_cells.append(openmc.Cell(fill=heavy_water, region=water_region))"
   ]
  },
  {
   "cell_type": "markdown",
   "metadata": {},
   "source": [
    "Let's see what our geometry looks like so far. In order to plot the geometry, we create a universe that contains the annular water cells and then use the `Universe.plot()` method. While we're at it, we'll set some keyword arguments that can be reused for later plots."
   ]
  },
  {
   "cell_type": "code",
   "execution_count": 5,
   "metadata": {},
   "outputs": [
    {
     "data": {
      "image/png": "[encoded data removed]",
      "text/plain": [
       "<matplotlib.figure.Figure at 0x7ff38410b690>"
      ]
     },
     "metadata": {},
     "output_type": "display_data"
    }
   ],
   "source": [
    "plot_args = {'width': (2*calendria_or, 2*calendria_or)}\n",
    "bundle_universe = openmc.Universe(cells=water_cells)\n",
    "bundle_universe.plot(**plot_args)"
   ]
  },
  {
   "cell_type": "markdown",
   "metadata": {},
   "source": [
    "Now we need to create a universe that contains a fuel pin. Note that we don't actually need to put water outside of the cladding in this universe because it will be truncated by a higher universe."
   ]
  },
  {
   "cell_type": "code",
   "execution_count": 6,
   "metadata": {},
   "outputs": [],
   "source": [
    "surf_fuel = openmc.ZCylinder(R=r_fuel)\n",
    "\n",
    "fuel_cell = openmc.Cell(fill=fuel, region=-surf_fuel)\n",
    "clad_cell = openmc.Cell(fill=clad, region=+surf_fuel)\n",
    "\n",
    "pin_universe = openmc.Universe(cells=(fuel_cell, clad_cell))"
   ]
  },
  {
   "cell_type": "code",
   "execution_count": 7,
   "metadata": {},
   "outputs": [
    {
     "data": {
      "image/png": "[encoded data removed]",
      "text/plain": [
       "<matplotlib.figure.Figure at 0x7ff334d44050>"
      ]
     },
     "metadata": {},
     "output_type": "display_data"
    }
   ],
   "source": [
    "pin_universe.plot(**plot_args)"
   ]
  },
  {
   "cell_type": "markdown",
   "metadata": {},
   "source": [
    "The code below works through each ring to create a cell containing the fuel pin universe. As each fuel pin is created, we modify the region of the water cell to include everything outside the fuel pin."
   ]
  },
  {
   "cell_type": "code",
   "execution_count": 8,
   "metadata": {},
   "outputs": [],
   "source": [
    "num_pins = [1, 6, 12, 18]\n",
    "angles = [0, 0, 15, 0]\n",
    "\n",
    "for i, (r, n, a) in enumerate(zip(ring_radii, num_pins, angles)):\n",
    "    for j in range(n):\n",
    "        # Determine location of center of pin\n",
    "        theta = (a + j/n*360.) * pi/180.\n",
    "        x = r*cos(theta)\n",
    "        y = r*sin(theta)\n",
    "        \n",
    "        pin_boundary = openmc.ZCylinder(x0=x, y0=y, R=r_clad)\n",
    "        water_cells[i].region &= +pin_boundary\n",
    "        \n",
    "        # Create each fuel pin -- note that we explicitly assign an ID so \n",
    "        # that we can identify the pin later when looking at tallies\n",
    "        pin = openmc.Cell(fill=pin_universe, region=-pin_boundary)\n",
    "        pin.translation = (x, y, 0)\n",
    "        pin.id = (i + 1)*100 + j\n",
    "        bundle_universe.add_cell(pin)"
   ]
  },
  {
   "cell_type": "code",
   "execution_count": 9,
   "metadata": {},
   "outputs": [
    {
     "data": {
      "text/plain": [
       "Cell\n",
       "\tID             =\t300\n",
       "\tName           =\t\n",
       "\tFill           =\t2\n",
       "\tRegion         =\t-12\n",
       "\tRotation       =\tNone\n",
       "\tTranslation    =\t[ 2.77751971  0.74423416  0.        ]"
      ]
     },
     "execution_count": 9,
     "metadata": {},
     "output_type": "execute_result"
    },
    {
     "data": {
      "text/plain": [
       "Surface\n",
       "\tID             =\t12\n",
       "\tName           =\t\n",
       "\tType           =\tz-cylinder\n",
       "\tBoundary       =\ttransmission\n",
       "\tCoefficients   \n",
       "y0              =\t0.744234164192\n",
       "x0              =\t2.77751971349\n",
       "R               =\t0.654"
      ]
     },
     "execution_count": 9,
     "metadata": {},
     "output_type": "execute_result"
    }
   ],
   "source": [
    "cc=bundle_universe.cells[300]\n",
    "cc\n",
    "cc.region.surface"
   ]
  },
  {
   "cell_type": "code",
   "execution_count": 10,
   "metadata": {},
   "outputs": [
    {
     "data": {
      "image/png": "[encoded data removed]",
      "text/plain": [
       "<matplotlib.figure.Figure at 0x7ff334d633d0>"
      ]
     },
     "metadata": {},
     "output_type": "display_data"
    }
   ],
   "source": [
    "#plot_args['color_by']='material'\n",
    "bundle_universe.plot(**plot_args)\n"
   ]
  },
  {
   "cell_type": "markdown",
   "metadata": {},
   "source": [
    "Looking pretty good! Finally, we create cells for the pressure tube and calendria and then put our bundle in the middle of the pressure tube."
   ]
  },
  {
   "cell_type": "code",
   "execution_count": 11,
   "metadata": {},
   "outputs": [],
   "source": [
    "pt_inner = openmc.ZCylinder(R=pressure_tube_ir)\n",
    "pt_outer = openmc.ZCylinder(R=pressure_tube_or)\n",
    "calendria_inner = openmc.ZCylinder(R=calendria_ir)\n",
    "calendria_outer = openmc.ZCylinder(R=calendria_or, boundary_type='vacuum')\n",
    "\n",
    "bundle = openmc.Cell(fill=bundle_universe, region=-pt_inner)\n",
    "pressure_tube = openmc.Cell(fill=clad, region=+pt_inner & -pt_outer)\n",
    "v1 = openmc.Cell(region=+pt_outer & -calendria_inner)\n",
    "calendria = openmc.Cell(fill=clad, region=+calendria_inner & -calendria_outer)\n",
    "\n",
    "root_universe = openmc.Universe(cells=[bundle, pressure_tube, v1, calendria])"
   ]
  },
  {
   "cell_type": "markdown",
   "metadata": {},
   "source": [
    "Let's look at the final product. We'll export our geometry and materials and then use `plot_inline()` to get a nice-looking plot."
   ]
  },
  {
   "cell_type": "code",
   "execution_count": 12,
   "metadata": {},
   "outputs": [],
   "source": [
    "geom = openmc.Geometry(root_universe)\n",
    "geom.export_to_xml()\n",
    "\n",
    "mats = openmc.Materials(geom.get_all_materials().values())\n",
    "mats.export_to_xml()"
   ]
  },
  {
   "cell_type": "code",
   "execution_count": 13,
   "metadata": {},
   "outputs": [
    {
     "data": {
      "image/png": "[encoded data removed]",
      "text/plain": [
       "<IPython.core.display.Image object>"
      ]
     },
     "metadata": {},
     "output_type": "display_data"
    }
   ],
   "source": [
    "p = openmc.Plot.from_geometry(geom)\n",
    "p.color_by = 'material'\n",
    "p.colors = {\n",
    "    fuel: 'black',\n",
    "    clad: 'silver',\n",
    "    heavy_water: 'blue'\n",
    "}\n",
    "openmc.plot_inline(p)"
   ]
  },
  {
   "cell_type": "markdown",
   "metadata": {},
   "source": [
    "## Interpreting Results\n",
    "\n",
    "One of the difficulties of a geometry like this is identifying tally results when there was no lattice involved. To address this, we specifically gave an ID to each fuel pin of the form 100\\*ring + azimuthal position. Consequently, we can use a distribcell tally and then look at our `DataFrame` which will show these cell IDs."
   ]
  },
  {
   "cell_type": "code",
   "execution_count": null,
   "metadata": {},
   "outputs": [],
   "source": [
    "settings = openmc.Settings()\n",
    "settings.particles = 1000\n",
    "settings.batches = 20\n",
    "settings.inactive = 10\n",
    "settings.source = openmc.Source(space=openmc.stats.Point())\n",
    "settings.export_to_xml()"
   ]
  },
  {
   "cell_type": "code",
   "execution_count": null,
   "metadata": {},
   "outputs": [],
   "source": [
    "fuel_tally = openmc.Tally()\n",
    "fuel_tally.filters = [openmc.DistribcellFilter(fuel_cell)]\n",
    "fuel_tally.scores = ['flux']\n",
    "\n",
    "tallies = openmc.Tallies([fuel_tally])\n",
    "tallies.export_to_xml()"
   ]
  },
  {
   "cell_type": "code",
   "execution_count": null,
   "metadata": {},
   "outputs": [],
   "source": [
    "openmc.run(output=False)"
   ]
  },
  {
   "cell_type": "markdown",
   "metadata": {},
   "source": [
    "The return code of `0` indicates that OpenMC ran successfully. Now let's load the statepoint into a `openmc.StatePoint` object and use the `Tally.get_pandas_dataframe(...)` method to see our results."
   ]
  },
  {
   "cell_type": "code",
   "execution_count": null,
   "metadata": {},
   "outputs": [],
   "source": [
    "sp = openmc.StatePoint('statepoint.{}.h5'.format(settings.batches))"
   ]
  },
  {
   "cell_type": "code",
   "execution_count": null,
   "metadata": {},
   "outputs": [],
   "source": [
    "t = sp.get_tally()\n",
    "t.get_pandas_dataframe()"
   ]
  },
  {
   "cell_type": "markdown",
   "metadata": {},
   "source": [
    "We can see that in the 'level 2' column, the 'cell id' tells us how each row corresponds to a ring and azimuthal position."
   ]
  }
 ],
 "metadata": {
  "anaconda-cloud": {},
  "kernelspec": {
   "display_name": "Python 2",
   "language": "python",
   "name": "python2"
  },
  "language_info": {
   "codemirror_mode": {
    "name": "ipython",
    "version": 2
   },
   "file_extension": ".py",
   "mimetype": "text/x-python",
   "name": "python",
   "nbconvert_exporter": "python",
   "pygments_lexer": "ipython2",
   "version": "2.7.12"
  }
 },
 "nbformat": 4,
 "nbformat_minor": 2
}
