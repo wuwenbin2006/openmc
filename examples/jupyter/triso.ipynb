{
 "cells": [
  {
   "cell_type": "markdown",
   "metadata": {},
   "source": [
    "OpenMC includes a few convenience functions for generationing TRISO particle locations and placing them in a lattice. To be clear, this capability is not a stochastic geometry capability like that included in MCNP. It's also important to note that OpenMC does not use delta tracking, which would normally speed up calculations in geometries with tons of surfaces and cells. However, the computational burden can be eased by placing TRISO particles in a lattice."
   ]
  },
  {
   "cell_type": "code",
   "execution_count": 1,
   "metadata": {},
   "outputs": [],
   "source": [
    "%matplotlib inline\n",
    "from math import pi\n",
    "import numpy as np\n",
    "import matplotlib.pyplot as plt\n",
    "import openmc\n",
    "import openmc.model"
   ]
  },
  {
   "cell_type": "markdown",
   "metadata": {},
   "source": [
    "Let's first start by creating materials that will be used in our TRISO particles and the background material."
   ]
  },
  {
   "cell_type": "code",
   "execution_count": 2,
   "metadata": {},
   "outputs": [],
   "source": [
    "fuel = openmc.Material(name='Fuel')\n",
    "fuel.set_density('g/cm3', 10.5)\n",
    "fuel.add_nuclide('U235', 4.6716e-02)\n",
    "fuel.add_nuclide('U238', 2.8697e-01)\n",
    "fuel.add_nuclide('O16',  5.0000e-01)\n",
    "fuel.add_element('C', 1.6667e-01)\n",
    "\n",
    "buff = openmc.Material(name='Buffer')\n",
    "buff.set_density('g/cm3', 1.0)\n",
    "buff.add_element('C', 1.0)\n",
    "buff.add_s_alpha_beta('c_Graphite')\n",
    "\n",
    "PyC1 = openmc.Material(name='PyC1')\n",
    "PyC1.set_density('g/cm3', 1.9)\n",
    "PyC1.add_element('C', 1.0)\n",
    "PyC1.add_s_alpha_beta('c_Graphite')\n",
    "\n",
    "PyC2 = openmc.Material(name='PyC2')\n",
    "PyC2.set_density('g/cm3', 1.87)\n",
    "PyC2.add_element('C', 1.0)\n",
    "PyC2.add_s_alpha_beta('c_Graphite')\n",
    "\n",
    "SiC = openmc.Material(name='SiC')\n",
    "SiC.set_density('g/cm3', 3.2)\n",
    "SiC.add_element('C', 0.5)\n",
    "SiC.add_element('Si', 0.5)\n",
    "\n",
    "graphite = openmc.Material()\n",
    "graphite.set_density('g/cm3', 1.1995)\n",
    "graphite.add_element('C', 1.0)\n",
    "graphite.add_s_alpha_beta('c_Graphite')"
   ]
  },
  {
   "cell_type": "markdown",
   "metadata": {},
   "source": [
    "To actually create individual TRISO particles, we first need to create a universe that will be used within each particle. The reason we use the same universe for each TRISO particle is to reduce the total number of cells/surfaces needed which can substantially improve performance over using unique cells/surfaces in each."
   ]
  },
  {
   "cell_type": "code",
   "execution_count": 4,
   "metadata": {},
   "outputs": [],
   "source": [
    "# Create TRISO universe\n",
    "spheres = [openmc.Sphere(R=r*1e-4)\n",
    "           for r in [215., 315., 350., 385.]]\n",
    "cells = [openmc.Cell(fill=fuel, region=-spheres[0]),\n",
    "         openmc.Cell(fill=buff, region=+spheres[0] & -spheres[1]),\n",
    "         openmc.Cell(fill=PyC1, region=+spheres[1] & -spheres[2]),\n",
    "         openmc.Cell(fill=SiC, region=+spheres[2] & -spheres[3]),\n",
    "         openmc.Cell(fill=PyC2, region=+spheres[3])]\n",
    "triso_univ = openmc.Universe(cells=cells)"
   ]
  },
  {
   "cell_type": "code",
   "execution_count": 18,
   "metadata": {},
   "outputs": [
    {
     "data": {
      "image/png": "[encoded data removed]",
      "text/plain": [
       "<matplotlib.figure.Figure at 0x7f1678e4ef10>"
      ]
     },
     "metadata": {},
     "output_type": "display_data"
    }
   ],
   "source": [
    "triso_univ.plot(width=(0.1,0.1))"
   ]
  },
  {
   "cell_type": "markdown",
   "metadata": {},
   "source": [
    "Now that we have a universe that can be used for each TRISO particle, we need to randomly select locations. In this example, we will select locations at random within a 1 cm x 1 cm x 1 cm box centered at the origin with a packing fraction of 30%. Note that `pack_trisos` can handle up to the theoretical maximum of 60% (it will just be slow)."
   ]
  },
  {
   "cell_type": "code",
   "execution_count": 36,
   "metadata": {},
   "outputs": [],
   "source": [
    "outer_radius = 425.*1e-4\n",
    "\n",
    "trisos = openmc.model.pack_trisos(\n",
    "    radius=outer_radius,\n",
    "    fill=triso_univ,\n",
    "    domain_shape='cube',\n",
    "    domain_length=1,\n",
    "    #packing_fraction=0.3\n",
    "    n_particles=3\n",
    ")"
   ]
  },
  {
   "cell_type": "markdown",
   "metadata": {},
   "source": [
    "Each TRISO object actually **is** a Cell, in fact; we can look at the properties of the TRISO just as we would a cell:"
   ]
  },
  {
   "cell_type": "code",
   "execution_count": 37,
   "metadata": {},
   "outputs": [
    {
     "name": "stdout",
     "output_type": "stream",
     "text": [
      "Cell\n",
      "\tID             =\t5634\n",
      "\tName           =\t\n",
      "\tFill           =\t2\n",
      "\tRegion         =\t-5558\n",
      "\tRotation       =\tNone\n",
      "\tTranslation    =\t[-0.33455672  0.31790187  0.24135378]\n",
      "\n"
     ]
    },
    {
     "data": {
      "text/plain": [
       "3"
      ]
     },
     "execution_count": 37,
     "metadata": {},
     "output_type": "execute_result"
    },
    {
     "name": "stdout",
     "output_type": "stream",
     "text": [
      "Cell\n",
      "\tID             =\t5635\n",
      "\tName           =\t\n",
      "\tFill           =\t2\n",
      "\tRegion         =\t-5559\n",
      "\tRotation       =\tNone\n",
      "\tTranslation    =\t[-0.22411184 -0.0041769  -0.04621568]\n",
      "\n"
     ]
    },
    {
     "data": {
      "text/plain": [
       "Universe\n",
       "\tID             =\t2\n",
       "\tName           =\t\n",
       "\tCells          =\t[6, 7, 8, 9, 10]"
      ]
     },
     "execution_count": 37,
     "metadata": {},
     "output_type": "execute_result"
    },
    {
     "data": {
      "text/plain": [
       "array([-0.22411184, -0.0041769 , -0.04621568])"
      ]
     },
     "execution_count": 37,
     "metadata": {},
     "output_type": "execute_result"
    },
    {
     "data": {
      "text/plain": [
       "Surface\n",
       "\tID             =\t5559\n",
       "\tName           =\t\n",
       "\tType           =\tsphere\n",
       "\tBoundary       =\ttransmission\n",
       "\tCoefficients   \n",
       "y0              =\t-0.00417689531087\n",
       "x0              =\t-0.224111841448\n",
       "R               =\t0.0425\n",
       "z0              =\t-0.0462156757183"
      ]
     },
     "execution_count": 37,
     "metadata": {},
     "output_type": "execute_result"
    },
    {
     "data": {
      "text/plain": [
       "list"
      ]
     },
     "execution_count": 37,
     "metadata": {},
     "output_type": "execute_result"
    },
    {
     "data": {
      "text/plain": [
       "openmc.model.triso.TRISO"
      ]
     },
     "execution_count": 37,
     "metadata": {},
     "output_type": "execute_result"
    }
   ],
   "source": [
    "print(trisos[0])\n",
    "len(trisos)\n",
    "cc=trisos[1]\n",
    "print cc\n",
    "triso_univ\n",
    "cc.center\n",
    "cc._surface\n",
    "type(trisos)\n",
    "type(cc)"
   ]
  },
  {
   "cell_type": "markdown",
   "metadata": {},
   "source": [
    "Let's confirm that all our TRISO particles are within the box."
   ]
  },
  {
   "cell_type": "code",
   "execution_count": 47,
   "metadata": {},
   "outputs": [
    {
     "name": "stdout",
     "output_type": "stream",
     "text": [
      "[-0.33455672 -0.0041769  -0.37161848]\n",
      "[ 0.13870757  0.31790187  0.24135378]\n"
     ]
    },
    {
     "data": {
      "text/plain": [
       "array([[-0.33455672,  0.31790187,  0.24135378],\n",
       "       [-0.22411184, -0.0041769 , -0.04621568],\n",
       "       [ 0.13870757,  0.26418187, -0.37161848]])"
      ]
     },
     "execution_count": 47,
     "metadata": {},
     "output_type": "execute_result"
    }
   ],
   "source": [
    "centers = np.vstack([t.center for t in trisos])\n",
    "print(centers.min(axis=0))\n",
    "print(centers.max(axis=0))\n",
    "centers"
   ]
  },
  {
   "cell_type": "markdown",
   "metadata": {},
   "source": [
    "We can also look at what the actual packing fraction turned out to be:"
   ]
  },
  {
   "cell_type": "code",
   "execution_count": 39,
   "metadata": {},
   "outputs": [
    {
     "data": {
      "text/plain": [
       "0.000964665294192916"
      ]
     },
     "execution_count": 39,
     "metadata": {},
     "output_type": "execute_result"
    }
   ],
   "source": [
    "len(trisos)*4/3*pi*outer_radius**3"
   ]
  },
  {
   "cell_type": "markdown",
   "metadata": {},
   "source": [
    "Now that we have our TRISO particles created, we need to place them in a lattice to provide optimal tracking performance in OpenMC. We'll start by creating a box that the lattice will be placed within."
   ]
  },
  {
   "cell_type": "code",
   "execution_count": 40,
   "metadata": {
    "scrolled": true
   },
   "outputs": [],
   "source": [
    "min_x = openmc.XPlane(x0=-0.5, boundary_type='reflective')\n",
    "max_x = openmc.XPlane(x0=0.5, boundary_type='reflective')\n",
    "min_y = openmc.YPlane(y0=-0.5, boundary_type='reflective')\n",
    "max_y = openmc.YPlane(y0=0.5, boundary_type='reflective')\n",
    "min_z = openmc.ZPlane(z0=-0.5, boundary_type='reflective')\n",
    "max_z = openmc.ZPlane(z0=0.5, boundary_type='reflective')\n",
    "box = openmc.Cell(region=+min_x & -max_x & +min_y & -max_y & +min_z & -max_z)"
   ]
  },
  {
   "cell_type": "markdown",
   "metadata": {},
   "source": [
    "Our last step is to actually create a lattice containing TRISO particles which can be done with `model.create_triso_lattice()` function. This function requires that we give it a list of TRISO particles, the lower-left coordinates of the lattice, the pitch of each lattice cell, the overall shape of the lattice (number of cells in each direction), and a background material."
   ]
  },
  {
   "cell_type": "code",
   "execution_count": 41,
   "metadata": {},
   "outputs": [],
   "source": [
    "lower_left, upper_right = box.region.bounding_box\n",
    "shape = (3, 3, 3)\n",
    "pitch = (upper_right - lower_left)/shape\n",
    "lattice = openmc.model.create_triso_lattice(\n",
    "    trisos, lower_left, pitch, shape, graphite)"
   ]
  },
  {
   "cell_type": "markdown",
   "metadata": {},
   "source": [
    "Now we can set the fill of our box cell to be the lattice:"
   ]
  },
  {
   "cell_type": "code",
   "execution_count": 42,
   "metadata": {},
   "outputs": [],
   "source": [
    "box.fill = lattice"
   ]
  },
  {
   "cell_type": "markdown",
   "metadata": {},
   "source": [
    "Finally, let's take a look at our geometry by putting the box in a universe and plotting it. We're going to use the Fortran-side plotter since it's much faster."
   ]
  },
  {
   "cell_type": "code",
   "execution_count": 43,
   "metadata": {},
   "outputs": [
    {
     "data": {
      "image/png": "[encoded data removed]",
      "text/plain": [
       "<IPython.core.display.Image object>"
      ]
     },
     "metadata": {},
     "output_type": "display_data"
    }
   ],
   "source": [
    "univ = openmc.Universe(cells=[box])\n",
    "\n",
    "geom = openmc.Geometry(univ)\n",
    "geom.export_to_xml()\n",
    "\n",
    "mats = list(geom.get_all_materials().values())\n",
    "openmc.Materials(mats).export_to_xml()\n",
    "\n",
    "settings = openmc.Settings()\n",
    "settings.run_mode = 'plot'\n",
    "settings.export_to_xml()\n",
    "\n",
    "p = openmc.Plot.from_geometry(geom)\n",
    "p.width=(1.1,1.1)\n",
    "p.background='black'\n",
    "openmc.plot_inline(p)"
   ]
  },
  {
   "cell_type": "markdown",
   "metadata": {},
   "source": [
    "If we plot the universe by material rather than by cell, we can see that the entire background is just graphite."
   ]
  },
  {
   "cell_type": "code",
   "execution_count": 58,
   "metadata": {},
   "outputs": [
    {
     "data": {
      "image/png": "[encoded data removed]",
      "text/plain": [
       "<IPython.core.display.Image object>"
      ]
     },
     "metadata": {},
     "output_type": "display_data"
    },
    {
     "data": {
      "image/png": "[encoded data removed]",
      "text/plain": [
       "<IPython.core.display.Image object>"
      ]
     },
     "metadata": {},
     "output_type": "display_data"
    },
    {
     "data": {
      "image/png": "[encoded data removed]",
      "text/plain": [
       "<IPython.core.display.Image object>"
      ]
     },
     "metadata": {},
     "output_type": "display_data"
    }
   ],
   "source": [
    "p.color_by = 'material'\n",
    "p.colors = {graphite: 'gray'}\n",
    "p.width=(0.1,0.1)\n",
    "#openmc.plot_inline(p)\n",
    "p.origin=centers[0]\n",
    "openmc.plot_inline(p)\n",
    "p.origin=(0.,0.,centers[1][2])\n",
    "openmc.plot_inline(p)\n",
    "p.origin=(0.,0.,centers[2][2])\n",
    "openmc.plot_inline(p)"
   ]
  },
  {
   "cell_type": "code",
   "execution_count": 32,
   "metadata": {},
   "outputs": [
    {
     "data": {
      "text/plain": [
       "Plot\n",
       "\tID             =\t5\n",
       "\tName           =\t\n",
       "\tFilename       =\tNone\n",
       "\tType           =\tslice\n",
       "\tBasis          =\txy\n",
       "\tWidth          =\t(1.1, 1.1)\n",
       "\tOrigin         =\t[ 0.  0.  0.]\n",
       "\tPixels         =\t[ 0.  0.  0.]\n",
       "\tColor by       =\tmaterial\n",
       "\tBackground     =\tblack\n",
       "\tMask components=\tNone\n",
       "\tMask background=\tNone\n",
       "\tColors         =\t{Material\n",
       "\tID             =\t6\n",
       "\tName           =\t\n",
       "\tTemperature    =\tNone\n",
       "\tDensity        =\t1.1995 [g/cm3]\n",
       "\tS(a,b) Tables  \n",
       "\tS(a,b)         =\t('c_Graphite', 1.0)\n",
       "\tNuclides       \n",
       "\tC0             =\t1.0          [ao]\n",
       ": 'gray'}\n",
       "\tLevel          =\tNone\n",
       "\tMeshlines      =\tNone"
      ]
     },
     "execution_count": 32,
     "metadata": {},
     "output_type": "execute_result"
    }
   ],
   "source": [
    "p"
   ]
  },
  {
   "cell_type": "code",
   "execution_count": 33,
   "metadata": {},
   "outputs": [
    {
     "data": {
      "image/png": "[encoded data removed]",
      "text/plain": [
       "<IPython.core.display.Image object>"
      ]
     },
     "metadata": {},
     "output_type": "display_data"
    }
   ],
   "source": []
  },
  {
   "cell_type": "code",
   "execution_count": null,
   "metadata": {},
   "outputs": [],
   "source": []
  }
 ],
 "metadata": {
  "anaconda-cloud": {},
  "kernelspec": {
   "display_name": "Python 2",
   "language": "python",
   "name": "python2"
  },
  "language_info": {
   "codemirror_mode": {
    "name": "ipython",
    "version": 2
   },
   "file_extension": ".py",
   "mimetype": "text/x-python",
   "name": "python",
   "nbconvert_exporter": "python",
   "pygments_lexer": "ipython2",
   "version": "2.7.12"
  }
 },
 "nbformat": 4,
 "nbformat_minor": 1
}
